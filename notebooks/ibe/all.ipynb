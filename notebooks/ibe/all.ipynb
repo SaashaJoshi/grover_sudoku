{
 "cells": [
  {
   "cell_type": "markdown",
   "metadata": {},
   "source": [
    "# 全体実装"
   ]
  },
  {
   "cell_type": "markdown",
   "metadata": {},
   "source": [
    "## 入力状態作成"
   ]
  },
  {
   "cell_type": "code",
   "execution_count": 31,
   "metadata": {},
   "outputs": [],
   "source": [
    "import matplotlib.pyplot as plt\n",
    "import numpy as np\n",
    "import time \n",
    "\n",
    "from qiskit import QuantumRegister, ClassicalRegister, QuantumCircuit\n",
    "from qiskit import IBMQ, Aer, execute\n",
    "from qiskit.tools.visualization import plot_histogram\n",
    "import json\n",
    "from qiskit.transpiler import PassManager\n",
    "from qiskit.transpiler.passes import Unroller"
   ]
  },
  {
   "cell_type": "code",
   "execution_count": 32,
   "metadata": {},
   "outputs": [],
   "source": [
    "# 初期状態\n",
    "template = \\\n",
    "    [[4, 0, 2, 0],\n",
    "     [0, 1, 0, 4],\n",
    "     [1, 0, 4, 0],\n",
    "     [0, 4, 0, 2]]"
   ]
  },
  {
   "cell_type": "code",
   "execution_count": 48,
   "metadata": {},
   "outputs": [],
   "source": [
    "# circuit construction \n",
    "n_qubits = 32\n",
    "n_blanks = 8\n",
    "n_cbits = 2 * n_blanks\n",
    "\n",
    "q = QuantumRegister(n_qubits) \n",
    "c = ClassicalRegister(n_cbits)\n",
    "circuit = QuantumCircuit(q, c)"
   ]
  },
  {
   "cell_type": "code",
   "execution_count": 47,
   "metadata": {},
   "outputs": [],
   "source": [
    "## Grover algorithm実行"
   ]
  },
  {
   "cell_type": "code",
   "execution_count": 35,
   "metadata": {},
   "outputs": [
    {
     "data": {
      "text/plain": [
       "<qiskit.circuit.instructionset.InstructionSet at 0x11d8b9048>"
      ]
     },
     "execution_count": 35,
     "metadata": {},
     "output_type": "execute_result"
    }
   ],
   "source": [
    "# measurement\n",
    "circuit.measure(q, c)"
   ]
  },
  {
   "cell_type": "code",
   "execution_count": 36,
   "metadata": {},
   "outputs": [
    {
     "name": "stdout",
     "output_type": "stream",
     "text": [
      "shots: 100\n",
      "Calculations took 0.04248189926147461 sec.\n",
      "{'0000000000000000': 100}\n"
     ]
    }
   ],
   "source": [
    "### Execution\n",
    "time0 = time.time()\n",
    "# shots = 8000\n",
    "shots = 100\n",
    "print(\"shots:\", shots)\n",
    "\n",
    "## local simulator\n",
    "backend = Aer.get_backend('qasm_simulator')\n",
    "## cloud simulator\n",
    "# provider = IBMQ.load_account()\n",
    "# backend = provider.get_backend('ibmq_qasm_simulator')\n",
    "\n",
    "job = execute(circuit, backend=backend, shots=shots, seed_simulator=12345, backend_options={\"fusion_enable\":True})\n",
    "result = job.result()\n",
    "count = result.get_counts()\n",
    "time1 = time.time()\n",
    "print(f\"Calculations took {time1-time0} sec.\")\n",
    "print(count)"
   ]
  },
  {
   "cell_type": "code",
   "execution_count": 37,
   "metadata": {},
   "outputs": [],
   "source": [
    "# サンプリング結果の最頻値\n",
    "most_frequent = sorted(count.items(), key=lambda x:x[1], reverse=True)[0][0]"
   ]
  },
  {
   "cell_type": "code",
   "execution_count": 38,
   "metadata": {},
   "outputs": [],
   "source": [
    "# 10進数(1~4)に変換\n",
    "def convert_to_decimal(str_bin):\n",
    "    list_dec = [int(str_bin[2*i:2*i+2])+1 for i in range(len(str_bin)//2)]\n",
    "    return list_dec"
   ]
  },
  {
   "cell_type": "code",
   "execution_count": 39,
   "metadata": {},
   "outputs": [
    {
     "name": "stdout",
     "output_type": "stream",
     "text": [
      "[1, 1, 1, 1, 1, 1, 1, 1]\n"
     ]
    }
   ],
   "source": [
    "solution = convert_to_decimal(most_frequent)\n",
    "print(solution)"
   ]
  },
  {
   "cell_type": "markdown",
   "metadata": {},
   "source": [
    "### validation\n"
   ]
  },
  {
   "cell_type": "code",
   "execution_count": 56,
   "metadata": {},
   "outputs": [],
   "source": [
    "template_answer_filled = template.copy()\n",
    "\n",
    "# 回答で埋める\n",
    "k = 0\n",
    "for i in range(4):\n",
    "    for j in range(4):\n",
    "        if template_answer_filled[i][j] == 0:\n",
    "            template_answer_filled[i][j] = solution[k]\n",
    "            k += 1\n",
    "            \n",
    "template_answer_filled = np.array(template_answer_filled)"
   ]
  },
  {
   "cell_type": "code",
   "execution_count": 57,
   "metadata": {},
   "outputs": [
    {
     "data": {
      "text/plain": [
       "array([[4, 1, 2, 1],\n",
       "       [1, 1, 1, 4],\n",
       "       [1, 1, 4, 1],\n",
       "       [1, 4, 1, 2]])"
      ]
     },
     "execution_count": 57,
     "metadata": {},
     "output_type": "execute_result"
    }
   ],
   "source": [
    "template_answer_filled"
   ]
  },
  {
   "cell_type": "code",
   "execution_count": 58,
   "metadata": {},
   "outputs": [
    {
     "data": {
      "text/plain": [
       "array([1, 1, 1, 4])"
      ]
     },
     "execution_count": 58,
     "metadata": {},
     "output_type": "execute_result"
    }
   ],
   "source": [
    "template_answer_filled[:, 1]"
   ]
  },
  {
   "cell_type": "code",
   "execution_count": null,
   "metadata": {},
   "outputs": [],
   "source": []
  }
 ],
 "metadata": {
  "kernelspec": {
   "display_name": "Python 3",
   "language": "python",
   "name": "python3"
  },
  "language_info": {
   "codemirror_mode": {
    "name": "ipython",
    "version": 3
   },
   "file_extension": ".py",
   "mimetype": "text/x-python",
   "name": "python",
   "nbconvert_exporter": "python",
   "pygments_lexer": "ipython3",
   "version": "3.7.3"
  }
 },
 "nbformat": 4,
 "nbformat_minor": 2
}
