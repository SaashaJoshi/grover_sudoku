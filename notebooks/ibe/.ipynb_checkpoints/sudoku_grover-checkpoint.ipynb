{
 "cells": [
  {
   "cell_type": "markdown",
   "metadata": {},
   "source": [
    "# 全体実装"
   ]
  },
  {
   "cell_type": "markdown",
   "metadata": {},
   "source": [
    "## 入力状態作成"
   ]
  },
  {
   "cell_type": "code",
   "execution_count": 1,
   "metadata": {},
   "outputs": [],
   "source": [
    "import matplotlib.pyplot as plt\n",
    "import numpy as np\n",
    "import time \n",
    "\n",
    "from qiskit import QuantumRegister, ClassicalRegister, QuantumCircuit\n",
    "from qiskit import IBMQ, Aer, execute\n",
    "from qiskit.tools.visualization import plot_histogram\n",
    "import json\n",
    "from qiskit.transpiler import PassManager\n",
    "from qiskit.transpiler.passes import Unroller"
   ]
  },
  {
   "cell_type": "code",
   "execution_count": 5,
   "metadata": {},
   "outputs": [],
   "source": [
    "#visualizes sudoku matrix. Element 0 means empty cell.\n",
    "def draw_matrix(template):\n",
    "    empty = np.ones((len(template), len(template)), dtype = np.int32)\n",
    "    plt.figure()\n",
    "    plt.axis('off')\n",
    "    plt.imshow(empty,interpolation='nearest',vmin=1,vmax=4, cmap = \"gray_r\")\n",
    "    ys, xs = np.meshgrid(range(template.shape[0]),range(template.shape[1]),indexing='ij')\n",
    "    for (x,y,val) in zip(xs.flatten(), ys.flatten(), template.flatten()):\n",
    "        if val == 0:\n",
    "            plt.text(x,y,None, horizontalalignment='center',verticalalignment='center',)\n",
    "        else:\n",
    "            plt.text(x,y,'{0:.0f}'.format(val), horizontalalignment='center',verticalalignment='center',)\n",
    "    plt.show()"
   ]
  },
  {
   "cell_type": "code",
   "execution_count": 6,
   "metadata": {},
   "outputs": [
    {
     "data": {
      "image/png": "[encoded data removed]",
      "text/plain": [
       "<Figure size 432x288 with 1 Axes>"
      ]
     },
     "metadata": {
      "needs_background": "light"
     },
     "output_type": "display_data"
    }
   ],
   "source": [
    "draw_matrix(template)"
   ]
  },
  {
   "cell_type": "markdown",
   "metadata": {},
   "source": [
    "## 初期状態作成"
   ]
  },
  {
   "cell_type": "code",
   "execution_count": 7,
   "metadata": {},
   "outputs": [
    {
     "name": "stdout",
     "output_type": "stream",
     "text": [
      "(array([[0, 1],\n",
      "       [0, 3],\n",
      "       [1, 0],\n",
      "       [1, 2],\n",
      "       [2, 1],\n",
      "       [2, 3],\n",
      "       [3, 0],\n",
      "       [3, 2]]), array([[4, 0, 2, 0, 0, 1, 0, 4, 4, 0, 0, 1],\n",
      "       [4, 0, 2, 0, 0, 4, 0, 2, 2, 0, 0, 4],\n",
      "       [0, 1, 0, 4, 4, 0, 1, 0, 4, 0, 0, 1],\n",
      "       [0, 1, 0, 4, 2, 0, 4, 0, 2, 0, 0, 4],\n",
      "       [1, 0, 4, 0, 0, 1, 0, 4, 1, 0, 0, 4],\n",
      "       [1, 0, 4, 0, 0, 4, 0, 2, 4, 0, 0, 2],\n",
      "       [0, 4, 0, 2, 4, 0, 1, 0, 1, 0, 0, 4],\n",
      "       [0, 4, 0, 2, 2, 0, 4, 0, 4, 0, 0, 2]]))\n"
     ]
    }
   ],
   "source": [
    "#Input: sudoku matrix, output: list of qubit numbers assigned to each empty cell and\n",
    "#the list of numbers in the same row, column and qubicle of each empty cell\n",
    "def nums(template):\n",
    "    rows = template.shape[0]\n",
    "    columns = template.shape[1]\n",
    "    flat = template.reshape(1, rows**2)[0]\n",
    "    empty_indices = np.array([np.array([k//4,k%4]) for k in range(rows*columns) if flat[k] == 0])\n",
    "    q_nums = np.array([[k, k+1] for k in range(0, len(empty_indices)*2, 2)])\n",
    "    num = []\n",
    "    for k,index in zip(range(len(empty_indices)),empty_indices):\n",
    "        row = template[index[0]][:]\n",
    "        column = np.array([template[k][index[1]] for k in range(rows)])\n",
    "        #if the empty cell belongs to the upper left box\n",
    "        if index[0] <= 1 and index[1] <= 1:\n",
    "            box = np.array([template[i[0]][i[1]] for i in [[0,0],[0,1],[1,0],[1,1]]])\n",
    "        #if the empty cell belongs to the upper right box\n",
    "        elif index[0] <= 1 and index[1] > 1:\n",
    "            box = np.array([template[i[0]][i[1]] for i in [[0,2],[0,3],[1,2],[1,3]]])\n",
    "        #if the empty cell belongs to the lower left box\n",
    "        elif index[0] > 1 and index[1] <= 1:\n",
    "            box = np.array([template[i[0]][i[1]] for i in [[2,0],[2,1],[3,0],[3,1]]])\n",
    "        #if the empty cell belongs to the lower right box\n",
    "        elif index[0] > 1 and index[1] > 1:\n",
    "            box =  np.array([template[i[0]][i[1]] for i in [[2,2],[2,3],[3,2],[3,3]]])\n",
    "        num.append(np.array([row, column, box]).reshape(1, 12)[0])\n",
    "    return empty_indices, np.array(num)\n",
    "\n",
    "print(nums(template))"
   ]
  },
  {
   "cell_type": "code",
   "execution_count": 8,
   "metadata": {},
   "outputs": [],
   "source": [
    "#Input: sudoku matrix,\n",
    "#Output: list of elements in the same row, column and box of the empty cell in question.\n",
    "def candidates(template, nums):\n",
    "    sudoku_size = template.shape[0]\n",
    "    all_cands = np.arange(1, sudoku_size + 1)\n",
    "    counts = np.array([np.count_nonzero(nums == all_cands[k]) for k in range(len(all_cands))])\n",
    "    cand_indices = np.where(counts==0)[0]\n",
    "    cands = np.array([all_cands[k] for k in cand_indices])\n",
    "    return set(cands)\n",
    "\n",
    "# print(candidates(template, [4, 0, 2, 0, 0, 4, 0, 2, 2, 0, 0, 4]))"
   ]
  },
  {
   "cell_type": "code",
   "execution_count": 9,
   "metadata": {},
   "outputs": [],
   "source": [
    "def single_cand_operation(qc, q0, q1, cands):\n",
    "    if cands == {1}:\n",
    "        pass\n",
    "    elif cands == {2}:\n",
    "        qc.x(q1)\n",
    "    elif cands == {3}:\n",
    "        qc.x(q0)\n",
    "    else:\n",
    "        qc.x(q0)\n",
    "        qc.x(q1)\n",
    "        \n",
    "def single_cand_operation_inv(qc, q0, q1, cands): \n",
    "    '''identical as noinv'''\n",
    "    if cands == {1}:\n",
    "        pass\n",
    "    elif cands == {2}:\n",
    "        qc.x(q1)\n",
    "    elif cands == {3}:\n",
    "        qc.x(q0)\n",
    "    else:\n",
    "        qc.x(q1)\n",
    "        qc.x(q0)\n",
    "\n",
    "def two_cand_operation(qc, q0, q1, cands):\n",
    "#     product = cands[0]*cands[1]\n",
    "    #1 + 2\n",
    "    if cands == {1, 2}:\n",
    "        qc.h(q1)\n",
    "    #1 + 3\n",
    "    elif cands == {1, 3}:\n",
    "        qc.h(q0)\n",
    "    #1 + 4\n",
    "    elif cands == {1, 4}:\n",
    "        qc.h(q0)\n",
    "        qc.cx(q0, q1)\n",
    "    #2 + 3\n",
    "    elif cands == {2, 3}:\n",
    "        qc.x(q1)\n",
    "        qc.h(q0)\n",
    "        qc.cx(q0, q1)\n",
    "    #2 + 4\n",
    "    elif cands == {2, 4}:\n",
    "        qc.x(q1)\n",
    "        qc.h(q0)\n",
    "    #3 + 4\n",
    "    else:\n",
    "        qc.h(q1)\n",
    "        qc.x(q0)\n",
    "    \n",
    "def two_cand_operation_inv(qc, q0, q1, cands):\n",
    "#     product = cands[0]*cands[1]\n",
    "    #1 + 2\n",
    "    if cands == {1, 2}:\n",
    "        qc.h(q1)\n",
    "    #1 + 3\n",
    "    elif cands == {1, 3}:\n",
    "        qc.h(q0)\n",
    "    #1 + 4\n",
    "    elif cands == {1, 4}:\n",
    "        qc.cx(q0, q1)\n",
    "        qc.h(q0)\n",
    "    #2 + 3\n",
    "    elif cands == {2, 3}:\n",
    "        qc.cx(q0, q1)\n",
    "        qc.h(q0)\n",
    "        qc.x(q1)\n",
    "    #2 + 4\n",
    "    elif cands == {2, 4}:\n",
    "        qc.h(q0)\n",
    "        qc.x(q1)\n",
    "    #3 + 4\n",
    "    else:\n",
    "        qc.h(q1)\n",
    "        qc.x(q0)"
   ]
  },
  {
   "cell_type": "code",
   "execution_count": 15,
   "metadata": {},
   "outputs": [],
   "source": [
    "def create_initial(qc, q, template):\n",
    "    # q: only qubits on blanks (ancillae not included)\n",
    "#     draw_matrix(template)\n",
    "    empty_indices, num = nums(template)\n",
    "    cands_list = np.array([candidates(template, num[k]) for k in range(len(num))])\n",
    "    for j,k in zip(range(0, len(empty_indices)*2, 2),range(len(cands_list))):\n",
    "        cands = cands_list[k]\n",
    "        if len(cands) == 1:\n",
    "            single_cand_operation(qc, q[j], q[j+1], cands)\n",
    "        else:\n",
    "            two_cand_operation(qc, q[j], q[j+1], cands)\n",
    "            \n",
    "def create_initial_inv(qc, q, template):\n",
    "    empty_indices, num = nums(template)\n",
    "    cands_list = np.array([candidates(template, num[k]) for k in range(len(num))])\n",
    "    for j,k in zip(range(0, len(empty_indices)*2, 2),range(len(cands_list))):\n",
    "        cands = cands_list[k]\n",
    "        if len(cands) == 1:\n",
    "            single_cand_operation_inv(qc, q[j], q[j+1], cands)\n",
    "        else:\n",
    "            two_cand_operation_inv(qc, q[j], q[j+1], cands)"
   ]
  },
  {
   "cell_type": "raw",
   "metadata": {},
   "source": [
    "qq = QuantumRegister(2)\n",
    "cc = ClassicalRegister(2)\n",
    "test_qc = QuantumCircuit(qq, cc)"
   ]
  },
  {
   "cell_type": "raw",
   "metadata": {},
   "source": [
    "cands_list = [{1}, {2}, {3}, {4}, {1, 2}, {1, 3}, {1, 4}, {2, 3}, {2, 4}, {3, 4}]"
   ]
  },
  {
   "cell_type": "raw",
   "metadata": {},
   "source": [
    "for cands in cands_list:\n",
    "    \n",
    "    qq = QuantumRegister(2)\n",
    "    cc = ClassicalRegister(2)\n",
    "    test_qc = QuantumCircuit(qq, cc)\n",
    "    \n",
    "    if len(cands) == 1:\n",
    "        single_cand_operation(test_qc, qq[0], qq[1], cands)\n",
    "    else:\n",
    "        two_cand_operation(test_qc, qq[0], qq[1], cands)\n",
    "    \n",
    "    test_qc.measure(qq, cc)\n",
    "\n",
    "    shots = 100\n",
    "\n",
    "    ## local simulator\n",
    "    backend = Aer.get_backend('qasm_simulator')\n",
    "\n",
    "    job = execute(test_qc, backend=backend, shots=shots, seed_simulator=12345, backend_options={\"fusion_enable\":True})\n",
    "    result = job.result()\n",
    "    count = result.get_counts()\n",
    "\n",
    "    print(cands)\n",
    "    print(count)\n",
    "    print()"
   ]
  },
  {
   "cell_type": "code",
   "execution_count": 11,
   "metadata": {},
   "outputs": [],
   "source": [
    "# oracle\n",
    "\n",
    "# if v1 != v2 (number) then target = 1 else target = 0\n",
    "def compare_vertex(qc, qr, v1, v2, target):\n",
    "    qc.x(qr[2*v2])\n",
    "    qc.x(qr[2*v2+1])\n",
    "    qc.ccx(qr[2*v1], qr[2*v1+1], target)\n",
    "    qc.ccx(qr[2*v1+1], qr[2*v2], target)\n",
    "    qc.ccx(qr[2*v2], qr[2*v2+1], target)\n",
    "    qc.ccx(qr[2*v1], qr[2*v2+1], target)\n",
    "    qc.x(qr[2*v2+1])\n",
    "    qc.x(qr[2*v2])\n",
    "    #\n",
    "    qc.x(qr[target])\n",
    "\n",
    "def compare_vertex_inv(qc, qr, v1, v2, target):\n",
    "    qc.x(qr[target])\n",
    "    #\n",
    "    qc.x(qr[2*v2])\n",
    "    qc.x(qr[2*v2+1])\n",
    "    qc.ccx(qr[2*v1], qr[2*v2+1], target)\n",
    "    qc.ccx(qr[2*v2], qr[2*v2+1], target)\n",
    "    qc.ccx(qr[2*v1+1], qr[2*v2], target)\n",
    "    qc.ccx(qr[2*v1], qr[2*v1+1], target)\n",
    "    qc.x(qr[2*v2+1])\n",
    "    qc.x(qr[2*v2])\n",
    "\n",
    "# とりあえず辺埋め込みオラクル\n",
    "def simple_oracle(qc, qr):\n",
    "    # vs = [0, 1, 2, 3, 4, 5, 6, 7]\n",
    "    lst = [[0, 1], [2, 3], [4, 5], [6, 7], [2, 6], [0, 4], [1, 5], [3, 7], [0, 2], [1, 3], [4, 6], [5, 7]]\n",
    "    target = 16\n",
    "    for elm in lst:\n",
    "        assert(len(elm)==2)\n",
    "        compare_vertex(qc, qr, elm[0], elm[1], target)\n",
    "        target+=1\n",
    "    assert(target<=29)\n",
    "    dst = 29\n",
    "    qc.mct(qr[16:target], qr[dst], [], mode='noancilla')\n",
    "    for elm in (reversed(lst)):\n",
    "        target-=1\n",
    "        compare_vertex_inv(qc, qr, elm[0], elm[1], target)\n"
   ]
  },
  {
   "cell_type": "code",
   "execution_count": 12,
   "metadata": {},
   "outputs": [],
   "source": [
    "# diffusion\n",
    "\n",
    "def diffusion(circuit, qr, template):\n",
    "    \"\"\"\n",
    "    diffusion (inversion about the mean) circuit.\n",
    "    note that this implementation gives H^{\\otimes n} (Id - |0..0><0...0|) H^{\\otimes n}\n",
    "    :param circuit:\n",
    "    :param qr: QuantumRegister on blanks (ancillae not included)\n",
    "    :return:\n",
    "    \"\"\"\n",
    "\n",
    "    # circuit.h(qr)\n",
    "    create_initial_inv(circuit, qr, template)  # 初期状態準備のユニタリ操作のinverse\n",
    "    circuit.x(qr)\n",
    "\n",
    "    # apply multi-control CZ\n",
    "    circuit.h(qr[-1])\n",
    "    # circuit.mct(qr[:-1], qr[-1], anc, mode='basic')\n",
    "    circuit.mct(qr[:-1], qr[-1], [], mode='noancilla')  # ancilla使わないver\n",
    "    circuit.h(qr[-1])\n",
    "\n",
    "    circuit.x(qr)\n",
    "    # circuit.h(qr)\n",
    "    create_initial(circuit, qr, template)"
   ]
  },
  {
   "cell_type": "code",
   "execution_count": 13,
   "metadata": {},
   "outputs": [],
   "source": [
    "def grover(circuit, q, c, template):\n",
    "\n",
    "    # set initial state\n",
    "    create_initial(circuit, q[:16], template)\n",
    "    \n",
    "    for _ in range(n_it):\n",
    "        simple_oracle(circuit, q)\n",
    "        diffusion(circuit, q[:16], template)\n",
    "    \n",
    "    # measurement\n",
    "    circuit.measure(q[:n_cbits],c)"
   ]
  },
  {
   "cell_type": "code",
   "execution_count": 16,
   "metadata": {},
   "outputs": [],
   "source": [
    "# number of iteration\n",
    "n_it = 1"
   ]
  },
  {
   "cell_type": "code",
   "execution_count": 17,
   "metadata": {},
   "outputs": [],
   "source": [
    "# 初期状態\n",
    "template = \\\n",
    "    np.array([[4, 0, 2, 0],\n",
    "              [0, 1, 0, 4],\n",
    "              [1, 0, 4, 0],\n",
    "              [0, 4, 0, 2]])"
   ]
  },
  {
   "cell_type": "code",
   "execution_count": 18,
   "metadata": {},
   "outputs": [],
   "source": [
    "# circuit construction \n",
    "n_qubits = 32\n",
    "n_blanks = 8\n",
    "n_cbits = 2 * n_blanks\n",
    "\n",
    "q = QuantumRegister(n_qubits) \n",
    "c = ClassicalRegister(n_cbits)\n",
    "circuit = QuantumCircuit(q, c)"
   ]
  },
  {
   "cell_type": "code",
   "execution_count": 19,
   "metadata": {},
   "outputs": [],
   "source": [
    "grover(circuit, q, c, template)"
   ]
  },
  {
   "cell_type": "code",
   "execution_count": null,
   "metadata": {},
   "outputs": [],
   "source": [
    "# circuit.draw(output='mpl')\n",
    "circuit.draw()"
   ]
  },
  {
   "cell_type": "code",
   "execution_count": 31,
   "metadata": {},
   "outputs": [
    {
     "name": "stderr",
     "output_type": "stream",
     "text": [
      "No measurements in circuit \"circuit0\": count data will return all zeros.\n"
     ]
    },
    {
     "name": "stdout",
     "output_type": "stream",
     "text": [
      "shots: 100\n",
      "Calculations took 0.051225900650024414 sec.\n",
      "{'0000000000000000': 100}\n"
     ]
    }
   ],
   "source": [
    "### Execution\n",
    "time0 = time.time()\n",
    "# shots = 8000\n",
    "shots = 100\n",
    "print(\"shots:\", shots)\n",
    "\n",
    "## local simulator\n",
    "backend = Aer.get_backend('qasm_simulator')\n",
    "## cloud simulator\n",
    "# provider = IBMQ.load_account()\n",
    "# backend = provider.get_backend('ibmq_qasm_simulator')\n",
    "\n",
    "job = execute(circuit, backend=backend, shots=shots, seed_simulator=12345, backend_options={\"fusion_enable\":True})\n",
    "result = job.result()\n",
    "count = result.get_counts()\n",
    "time1 = time.time()\n",
    "print(f\"Calculations took {time1-time0} sec.\")\n",
    "print(count)"
   ]
  },
  {
   "cell_type": "code",
   "execution_count": 161,
   "metadata": {},
   "outputs": [],
   "source": [
    "# サンプリング結果の最頻値\n",
    "most_frequent = sorted(count.items(), key=lambda x:x[1], reverse=True)[0][0]"
   ]
  },
  {
   "cell_type": "code",
   "execution_count": 29,
   "metadata": {},
   "outputs": [],
   "source": [
    "# 10進数(1~4)に変換\n",
    "def convert_to_decimal(str_bin):\n",
    "    str_bin = ''.join(list(reversed(str_bin)))  # cbitに格納されるときに順番逆になっていることに注意\n",
    "    list_dec = [int(str_bin[2*i:2*i+2], 2)+1 for i in range(len(str_bin)//2)]\n",
    "    return list_dec"
   ]
  },
  {
   "cell_type": "code",
   "execution_count": 164,
   "metadata": {},
   "outputs": [
    {
     "name": "stdout",
     "output_type": "stream",
     "text": [
      "[4, 1, 1, 1, 1, 1, 1, 1]\n"
     ]
    }
   ],
   "source": [
    "solution = convert_to_decimal(most_frequent)\n",
    "print(solution)"
   ]
  },
  {
   "cell_type": "markdown",
   "metadata": {},
   "source": [
    "### validation\n"
   ]
  },
  {
   "cell_type": "code",
   "execution_count": 56,
   "metadata": {},
   "outputs": [],
   "source": [
    "template_answer_filled = template.copy()\n",
    "\n",
    "# 回答で埋める\n",
    "k = 0\n",
    "for i in range(4):\n",
    "    for j in range(4):\n",
    "        if template_answer_filled[i][j] == 0:\n",
    "            template_answer_filled[i][j] = solution[k]\n",
    "            k += 1\n",
    "            \n",
    "template_answer_filled = np.array(template_answer_filled)"
   ]
  },
  {
   "cell_type": "code",
   "execution_count": 57,
   "metadata": {},
   "outputs": [
    {
     "data": {
      "text/plain": [
       "array([[4, 1, 2, 1],\n",
       "       [1, 1, 1, 4],\n",
       "       [1, 1, 4, 1],\n",
       "       [1, 4, 1, 2]])"
      ]
     },
     "execution_count": 57,
     "metadata": {},
     "output_type": "execute_result"
    }
   ],
   "source": [
    "template_answer_filled"
   ]
  },
  {
   "cell_type": "code",
   "execution_count": null,
   "metadata": {},
   "outputs": [],
   "source": []
  }
 ],
 "metadata": {
  "kernelspec": {
   "display_name": "Python 3",
   "language": "python",
   "name": "python3"
  },
  "language_info": {
   "codemirror_mode": {
    "name": "ipython",
    "version": 3
   },
   "file_extension": ".py",
   "mimetype": "text/x-python",
   "name": "python",
   "nbconvert_exporter": "python",
   "pygments_lexer": "ipython3",
   "version": "3.7.3"
  }
 },
 "nbformat": 4,
 "nbformat_minor": 2
}
