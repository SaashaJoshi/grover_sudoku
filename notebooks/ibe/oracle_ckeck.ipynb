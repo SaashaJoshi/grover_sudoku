{
 "cells": [
  {
   "cell_type": "markdown",
   "metadata": {},
   "source": [
    "# Oracle check"
   ]
  },
  {
   "cell_type": "markdown",
   "metadata": {},
   "source": [
    "## 入力状態作成"
   ]
  },
  {
   "cell_type": "code",
   "execution_count": 20,
   "metadata": {},
   "outputs": [],
   "source": [
    "import matplotlib.pyplot as plt\n",
    "import numpy as np\n",
    "import time \n",
    "\n",
    "from qiskit import QuantumRegister, ClassicalRegister, QuantumCircuit\n",
    "from qiskit import IBMQ, Aer, execute\n",
    "from qiskit.tools.visualization import plot_histogram\n",
    "import json\n",
    "from qiskit.transpiler import PassManager\n",
    "from qiskit.transpiler.passes import Unroller"
   ]
  },
  {
   "cell_type": "code",
   "execution_count": 3,
   "metadata": {},
   "outputs": [],
   "source": [
    "# 初期状態\n",
    "mat = \\\n",
    "    np.array([[4, 0, 2, 0],\n",
    "              [0, 1, 0, 4],\n",
    "              [1, 0, 4, 0],\n",
    "              [0, 4, 0, 2]])\n",
    "mat_correct = \\\n",
    "    np.array([[4, 3, 2, 1],\n",
    "              [2, 1, 3, 4],\n",
    "              [1, 2, 4, 3],\n",
    "              [3, 4, 1, 2]])"
   ]
  },
  {
   "cell_type": "code",
   "execution_count": 4,
   "metadata": {},
   "outputs": [],
   "source": [
    "correct_ind = [3, 1, 2, 3, 2, 3, 3, 1]"
   ]
  },
  {
   "cell_type": "code",
   "execution_count": 5,
   "metadata": {},
   "outputs": [],
   "source": [
    "correct_ind_bin = [1,0, 0,0, 0,1, 1,0, 0,1, 1,0, 1,0, 0,0]"
   ]
  },
  {
   "cell_type": "code",
   "execution_count": 14,
   "metadata": {},
   "outputs": [],
   "source": [
    "# circuit construction \n",
    "n_qubits = 32\n",
    "# n_qubits = 16\n",
    "n_blanks = 8\n",
    "n_cbits = 2 * n_blanks\n",
    "\n",
    "q = QuantumRegister(n_qubits) \n",
    "c = ClassicalRegister(n_cbits)\n",
    "circuit = QuantumCircuit(q, c)"
   ]
  },
  {
   "cell_type": "code",
   "execution_count": null,
   "metadata": {},
   "outputs": [],
   "source": []
  },
  {
   "cell_type": "code",
   "execution_count": 11,
   "metadata": {},
   "outputs": [],
   "source": [
    "# oracle\n",
    "\n",
    "# if v1 != v2 (number) then target = 1 else target = 0\n",
    "def compare_vertex(qc, qr, v1, v2, target):\n",
    "    qc.x(qr[2*v2])\n",
    "    qc.x(qr[2*v2+1])\n",
    "    qc.ccx(qr[2*v1], qr[2*v1+1], target)\n",
    "    qc.ccx(qr[2*v1+1], qr[2*v2], target)\n",
    "    qc.ccx(qr[2*v2], qr[2*v2+1], target)\n",
    "    qc.ccx(qr[2*v1], qr[2*v2+1], target)\n",
    "    qc.x(qr[2*v2+1])\n",
    "    qc.x(qr[2*v2])\n",
    "    #\n",
    "    qc.x(qr[target])\n",
    "\n",
    "def compare_vertex_inv(qc, qr, v1, v2, target):\n",
    "    qc.x(qr[target])\n",
    "    #\n",
    "    qc.x(qr[2*v2])\n",
    "    qc.x(qr[2*v2+1])\n",
    "    qc.ccx(qr[2*v1], qr[2*v2+1], target)\n",
    "    qc.ccx(qr[2*v2], qr[2*v2+1], target)\n",
    "    qc.ccx(qr[2*v1+1], qr[2*v2], target)\n",
    "    qc.ccx(qr[2*v1], qr[2*v1+1], target)\n",
    "    qc.x(qr[2*v2+1])\n",
    "    qc.x(qr[2*v2])\n",
    "\n",
    "# # とりあえず辺埋め込みオラクル\n",
    "# def simple_oracle(qc, qr):\n",
    "#     # vs = [0, 1, 2, 3, 4, 5, 6, 7]\n",
    "#     lst = [[0, 1], [2, 3], [4, 5], [6, 7], [2, 6], [0, 4], [1, 5], [3, 7], [0, 2], [1, 3], [4, 6], [5, 7]]\n",
    "#     target = 16\n",
    "#     for elm in lst:\n",
    "#         assert(len(elm)==2)\n",
    "#         compare_vertex(qc, qr, elm[0], elm[1], target)\n",
    "#         target+=1\n",
    "#     assert(target<=29)\n",
    "#     dst = 29\n",
    "# #     qc.mct(qr[16:target], qr[dst], [], mode='noancilla')\n",
    "#     for elm in (reversed(lst)):\n",
    "#         target-=1\n",
    "#         compare_vertex_inv(qc, qr, elm[0], elm[1], target)\n",
    "\n",
    "# とりあえず辺埋め込みオラクル\n",
    "def simple_oracle(qc, qr):\n",
    "    # vs = [0, 1, 2, 3, 4, 5, 6, 7]\n",
    "    lst1 = [[0, 1], [2, 3], [4, 5], [6, 7], [2, 6], [0, 4]]\n",
    "    lst2 = [[1, 5], [3, 7], [0, 2], [1, 3], [4, 6], [5, 7]]\n",
    "    target = 16\n",
    "    tmp1 = 30\n",
    "    tmp2 = 31\n",
    "    for elm in lst1:\n",
    "        assert(len(elm)==2)\n",
    "        compare_vertex(qc, qr, elm[0], elm[1], target)\n",
    "        target+=1\n",
    "    qc.mct(qr[16:target], qr[tmp1], qr[22:29], mode='basic')\n",
    "    for elm in (reversed(lst1)):\n",
    "        target-=1\n",
    "        compare_vertex_inv(qc, qr, elm[0], elm[1], target)\n",
    "        \n",
    "    for elm in lst2:\n",
    "        assert(len(elm)==2)\n",
    "        compare_vertex(qc, qr, elm[0], elm[1], target)\n",
    "        target+=1\n",
    "    qc.mct(qr[16:target], qr[tmp2], qr[22:29], mode='basic')\n",
    "    for elm in (reversed(lst2)):\n",
    "        target-=1\n",
    "        compare_vertex_inv(qc, qr, elm[0], elm[1], target)\n",
    "    \n",
    "    ##\n",
    "    dst = 29\n",
    "    qc.ccx(qr[tmp1], qr[tmp2], qr[dst])\n",
    "    ##\n",
    "    \n",
    "    for elm in lst2:\n",
    "        assert(len(elm)==2)\n",
    "        compare_vertex(qc, qr, elm[0], elm[1], target)\n",
    "        target+=1\n",
    "    qc.mct(qr[16:target], qr[tmp2], qr[22:29], mode='basic')\n",
    "    for elm in (reversed(lst2)):\n",
    "        target-=1\n",
    "        compare_vertex_inv(qc, qr, elm[0], elm[1], target)\n",
    "        \n",
    "    for elm in lst1:\n",
    "        assert(len(elm)==2)\n",
    "        compare_vertex(qc, qr, elm[0], elm[1], target)\n",
    "        target+=1\n",
    "    qc.mct(qr[16:target], qr[tmp1], qr[22:29], mode='basic')\n",
    "    for elm in (reversed(lst1)):\n",
    "        target-=1\n",
    "        compare_vertex_inv(qc, qr, elm[0], elm[1], target)\n",
    "\n"
   ]
  },
  {
   "cell_type": "code",
   "execution_count": 12,
   "metadata": {},
   "outputs": [],
   "source": [
    "# diffusion\n",
    "\n",
    "# def diffusion(circuit, qr, template):\n",
    "#     \"\"\"\n",
    "#     diffusion (inversion about the mean) circuit.\n",
    "#     note that this implementation gives H^{\\otimes n} (Id - |0..0><0...0|) H^{\\otimes n}\n",
    "#     :param circuit:\n",
    "#     :param qr: QuantumRegister on blanks (ancillae not included)\n",
    "#     :return:\n",
    "#     \"\"\"\n",
    "\n",
    "#     # circuit.h(qr)\n",
    "#     create_initial_inv(circuit, qr, mat)  # 初期状態準備のユニタリ操作のinverse\n",
    "#     circuit.x(qr)\n",
    "\n",
    "#     # apply multi-control CZ\n",
    "#     circuit.h(qr[-1])\n",
    "#     # circuit.mct(qr[:-1], qr[-1], anc, mode='basic')\n",
    "#     circuit.mct(qr[:-1], qr[-1], [], mode='noancilla')  # ancilla使わないver\n",
    "#     circuit.h(qr[-1])\n",
    "\n",
    "#     circuit.x(qr)\n",
    "#     # circuit.h(qr)\n",
    "#     create_initial(circuit, qr, mat)\n",
    "    \n",
    "def diffusion(circuit, qr, mat):\n",
    "    \"\"\"\n",
    "    diffusion (inversion about the mean) circuit.\n",
    "    note that this implementation gives H^{\\otimes n} (Id - |0..0><0...0|) H^{\\otimes n}\n",
    "    :param circuit:\n",
    "    :param qr: QuantumRegister on nodes\n",
    "    :return:\n",
    "    \"\"\"\n",
    "\n",
    "    # circuit.h(qr)\n",
    "    create_initial_inv(circuit, qr[:16], mat)  # 初期状態準備のユニタリ操作のinverse\n",
    "    circuit.x(qr[:16])\n",
    "\n",
    "    # apply multi-control CZ\n",
    "    circuit.h(qr[15])\n",
    "    # circuit.mct(qr[:-1], qr[-1], anc, mode='basic')\n",
    "    circuit.mct(qr[:15], qr[15], qr[16:32], mode='basic')  # ancilla使うver\n",
    "    circuit.h(qr[15])\n",
    "\n",
    "    circuit.x(qr[:16])\n",
    "    # circuit.h(qr)\n",
    "    create_initial(circuit, qr[:16], mat)"
   ]
  },
  {
   "cell_type": "code",
   "execution_count": 13,
   "metadata": {},
   "outputs": [],
   "source": [
    "# number of iteration\n",
    "n_it = 1\n",
    "\n",
    "def grover(circuit, q, c, mat):\n",
    "\n",
    "    # set initial state\n",
    "    create_initial(circuit, q[:16], mat)\n",
    "    \n",
    "    for _ in range(n_it):\n",
    "        simple_oracle(circuit, q)\n",
    "        diffusion(circuit, q, mat)\n",
    "    \n",
    "    circuit.barrier()\n",
    "    \n",
    "    # measurement\n",
    "    circuit.measure(q[:n_cbits],c)"
   ]
  },
  {
   "cell_type": "code",
   "execution_count": 14,
   "metadata": {},
   "outputs": [],
   "source": [
    "# circuit construction \n",
    "n_qubits = 32\n",
    "# n_qubits = 16\n",
    "n_blanks = 8\n",
    "n_cbits = 2 * n_blanks\n",
    "\n",
    "q = QuantumRegister(n_qubits) \n",
    "c = ClassicalRegister(n_cbits)\n",
    "circuit = QuantumCircuit(q, c)"
   ]
  },
  {
   "cell_type": "code",
   "execution_count": 15,
   "metadata": {},
   "outputs": [
    {
     "name": "stdout",
     "output_type": "stream",
     "text": [
      "circuit has been constructed!\n"
     ]
    }
   ],
   "source": [
    "grover(circuit, q, c, mat)\n",
    "print('circuit has been constructed!')"
   ]
  },
  {
   "cell_type": "markdown",
   "metadata": {},
   "source": [
    "### Use Transpiler"
   ]
  },
  {
   "cell_type": "code",
   "execution_count": null,
   "metadata": {},
   "outputs": [],
   "source": [
    "from qiskit.compiler import transpile\n",
    "from qiskit.transpiler import PassManager"
   ]
  },
  {
   "cell_type": "code",
   "execution_count": null,
   "metadata": {},
   "outputs": [],
   "source": [
    "# https://qiskit.org/documentation/locale/ja/api/qiskit.compiler.transpile.html\n",
    "optimized_circuit = transpile(circ, basis_gates=['u1', 'u3', 'u2', 'cx'], optimization_level=2) "
   ]
  },
  {
   "cell_type": "raw",
   "metadata": {},
   "source": [
    "# circuit.draw(output='mpl')\n",
    "circuit.draw()"
   ]
  },
  {
   "cell_type": "code",
   "execution_count": null,
   "metadata": {},
   "outputs": [
    {
     "name": "stdout",
     "output_type": "stream",
     "text": [
      "shots: 100\n"
     ]
    }
   ],
   "source": [
    "### Execution\n",
    "time0 = time.time()\n",
    "# shots = 8000\n",
    "shots = 100\n",
    "print(\"shots:\", shots)\n",
    "\n",
    "## local simulator\n",
    "# backend = Aer.get_backend('qasm_simulator')\n",
    "## cloud simulator\n",
    "provider = IBMQ.load_account()\n",
    "backend = provider.get_backend('ibmq_qasm_simulator')\n",
    "\n",
    "# job = execute(circuit, backend=backend, shots=shots, seed_simulator=12345)\n",
    "job = execute(optimized_circuit, backend=backend, shots=shots, seed_simulator=12345)  # to use transpiled circuit\n",
    "# job = execute(circuit, backend=backend, shots=shots, seed_simulator=12345, backend_options={\"fusion_enable\":True})\n",
    "\n",
    "result = job.result()\n",
    "count = result.get_counts()\n",
    "time1 = time.time()\n",
    "print(f\"Calculations took {time1-time0} sec.\")\n",
    "print(count)"
   ]
  },
  {
   "cell_type": "code",
   "execution_count": null,
   "metadata": {},
   "outputs": [],
   "source": [
    "plot_histogram(count)"
   ]
  },
  {
   "cell_type": "code",
   "execution_count": null,
   "metadata": {},
   "outputs": [],
   "source": [
    "# サンプリング結果の最頻値\n",
    "most_frequent = sorted(count.items(), key=lambda x:x[1], reverse=True)[0][0]"
   ]
  },
  {
   "cell_type": "code",
   "execution_count": null,
   "metadata": {},
   "outputs": [],
   "source": [
    "# 10進数(1~4)に変換\n",
    "def convert_to_decimal(str_bin):\n",
    "    str_bin = ''.join(list(reversed(str_bin)))  # cbitに格納されるときに順番逆になっていることに注意\n",
    "    list_dec = [int(str_bin[2*i:2*i+2], 2)+1 for i in range(len(str_bin)//2)]\n",
    "    return list_dec"
   ]
  },
  {
   "cell_type": "code",
   "execution_count": null,
   "metadata": {},
   "outputs": [],
   "source": [
    "solution = convert_to_decimal(most_frequent)\n",
    "print(solution)"
   ]
  },
  {
   "cell_type": "code",
   "execution_count": null,
   "metadata": {},
   "outputs": [],
   "source": [
    "for key, value in count.items():\n",
    "    print(convert_to_decimal(key), f'count: {value}')"
   ]
  },
  {
   "cell_type": "markdown",
   "metadata": {},
   "source": [
    "### validation\n"
   ]
  },
  {
   "cell_type": "code",
   "execution_count": null,
   "metadata": {},
   "outputs": [],
   "source": [
    "mat_answer_filled = mat.copy()\n",
    "\n",
    "# 回答で埋める\n",
    "k = 0\n",
    "for i in range(4):\n",
    "    for j in range(4):\n",
    "        if mat_answer_filled[i][j] == 0:\n",
    "            mat_answer_filled[i][j] = solution[k]\n",
    "            k += 1\n",
    "            \n",
    "mat_answer_filled = np.array(mat_answer_filled)"
   ]
  },
  {
   "cell_type": "code",
   "execution_count": 7,
   "metadata": {},
   "outputs": [],
   "source": [
    "mat_answer_filled = np.array([[4, 3, 2, 1],\n",
    "       [2, 1, 3, 4],\n",
    "       [1, 2, 4, 3],\n",
    "       [3, 4, 1, 2]])"
   ]
  },
  {
   "cell_type": "code",
   "execution_count": 16,
   "metadata": {},
   "outputs": [
    {
     "name": "stdout",
     "output_type": "stream",
     "text": [
      "[4, 3, 2, 1, 2, 1, 3, 4, 1, 2, 4, 3, 3, 4, 1, 2]\n"
     ]
    }
   ],
   "source": [
    "# 10進数のリスト\n",
    "ans_10_list = mat_answer_filled.flatten().tolist()\n",
    "print(ans_10_list)"
   ]
  },
  {
   "cell_type": "code",
   "execution_count": 15,
   "metadata": {},
   "outputs": [
    {
     "name": "stdout",
     "output_type": "stream",
     "text": [
      "[4, 3, 2, 1, 2, 1, 3, 4, 1, 2, 4, 3, 3, 4, 1, 2]\n"
     ]
    }
   ],
   "source": [
    "def row_judge(ans_10_list):\n",
    "    for i in range(0, 16, 4):\n",
    "        if len(list(set(ans_10_list[i:i+4]))) < 4:\n",
    "            return False\n",
    "    return True\n",
    "\n",
    "def colum_judge(ans_10_list):\n",
    "    for i in range(0,4):\n",
    "        get_colum = []\n",
    "        for j in range(i,16,4):\n",
    "            get_colum.append(ans_10_list[j])\n",
    "        if len(list(set(get_colum))) < 4:\n",
    "            return False\n",
    "        else:\n",
    "            pass\n",
    "    return True\n",
    "\n",
    "def box_judge(ans_10_list):\n",
    "    split_ans = []\n",
    "    for i in range(0, len(ans_10_list), 2):\n",
    "        split_ans.append([ans_10_list[i], ans_10_list[i+1]])\n",
    "    for i in range(0, 2):\n",
    "        get_box = split_ans[i] + split_ans[i+2]\n",
    "        if len(list(set(get_box))) < 4:\n",
    "            return False\n",
    "        else:\n",
    "            pass\n",
    "    for i in range(4, 6):\n",
    "        get_box = split_ans[i] + split_ans[i+2]\n",
    "        if len(list(set(get_box))) < 4:\n",
    "            return False\n",
    "        else:\n",
    "            pass\n",
    "    return True\n",
    "\n",
    "def judge_whole(ans_10_list):\n",
    "  \n",
    "    judgeA = row_judge(ans_10_list)\n",
    "    judgeB = colum_judge(ans_10_list)\n",
    "    judgeC = box_judge(ans_10_list)\n",
    "    \n",
    "    return(judgeA and judgeB and judgeC)"
   ]
  },
  {
   "cell_type": "code",
   "execution_count": 17,
   "metadata": {},
   "outputs": [
    {
     "data": {
      "text/plain": [
       "True"
      ]
     },
     "execution_count": 17,
     "metadata": {},
     "output_type": "execute_result"
    }
   ],
   "source": [
    "judge_whole(ans_10_list)"
   ]
  },
  {
   "cell_type": "code",
   "execution_count": 86,
   "metadata": {},
   "outputs": [],
   "source": [
    "count = {'0000':10, '0001':5}"
   ]
  },
  {
   "cell_type": "code",
   "execution_count": 87,
   "metadata": {},
   "outputs": [
    {
     "data": {
      "image/png": "[encoded data removed]",
      "text/plain": [
       "<Figure size 504x360 with 1 Axes>"
      ]
     },
     "execution_count": 87,
     "metadata": {},
     "output_type": "execute_result"
    }
   ],
   "source": [
    "plot_histogram(count)"
   ]
  },
  {
   "cell_type": "code",
   "execution_count": 88,
   "metadata": {},
   "outputs": [],
   "source": [
    "count_decimal = {}\n",
    "for key, value in count.items():\n",
    "    count_decimal[convert_to_decimal(key)] = value"
   ]
  },
  {
   "cell_type": "code",
   "execution_count": 90,
   "metadata": {},
   "outputs": [
    {
     "data": {
      "image/png": "[encoded data removed]",
      "text/plain": [
       "<Figure size 504x360 with 1 Axes>"
      ]
     },
     "execution_count": 90,
     "metadata": {},
     "output_type": "execute_result"
    }
   ],
   "source": [
    "plot_histogram(count_decimal)"
   ]
  },
  {
   "cell_type": "code",
   "execution_count": 77,
   "metadata": {},
   "outputs": [],
   "source": [
    "# サンプリング結果の最頻値\n",
    "most_frequent = sorted(count.items(), key=lambda x:x[1], reverse=True)[0][0]"
   ]
  },
  {
   "cell_type": "code",
   "execution_count": 78,
   "metadata": {},
   "outputs": [
    {
     "data": {
      "text/plain": [
       "'0000'"
      ]
     },
     "execution_count": 78,
     "metadata": {},
     "output_type": "execute_result"
    }
   ],
   "source": [
    "most_frequent"
   ]
  },
  {
   "cell_type": "code",
   "execution_count": 79,
   "metadata": {},
   "outputs": [],
   "source": [
    "list_dec = [1,1]"
   ]
  },
  {
   "cell_type": "code",
   "execution_count": 80,
   "metadata": {},
   "outputs": [
    {
     "data": {
      "text/plain": [
       "'[1, 1]'"
      ]
     },
     "execution_count": 80,
     "metadata": {},
     "output_type": "execute_result"
    }
   ],
   "source": [
    "str(list_dec)"
   ]
  },
  {
   "cell_type": "code",
   "execution_count": 81,
   "metadata": {},
   "outputs": [],
   "source": [
    "# 10進数(1~4)に変換\n",
    "def convert_to_decimal(str_bin):\n",
    "    str_bin = ''.join(list(reversed(str_bin)))  # cbitに格納されるときに順番逆になっていることに注意\n",
    "    list_dec = [str(int(str_bin[2*i:2*i+2], 2)+1) for i in range(len(str_bin)//2)]\n",
    "    str_dec = ''.join(list_dec)\n",
    "    return str_dec"
   ]
  },
  {
   "cell_type": "code",
   "execution_count": 82,
   "metadata": {},
   "outputs": [
    {
     "name": "stdout",
     "output_type": "stream",
     "text": [
      "11\n"
     ]
    }
   ],
   "source": [
    "solution = convert_to_decimal(most_frequent)\n",
    "print(solution)"
   ]
  },
  {
   "cell_type": "code",
   "execution_count": 83,
   "metadata": {},
   "outputs": [
    {
     "name": "stdout",
     "output_type": "stream",
     "text": [
      "11 count: 10\n",
      "31 count: 5\n"
     ]
    }
   ],
   "source": [
    "for key, value in count.items():\n",
    "    print(convert_to_decimal(key), f'count: {value}')"
   ]
  },
  {
   "cell_type": "code",
   "execution_count": 101,
   "metadata": {},
   "outputs": [],
   "source": [
    "import pickle\n",
    "with open('count.pkl', 'wb') as pkl:\n",
    "    pickle.dump(count , pkl)"
   ]
  },
  {
   "cell_type": "code",
   "execution_count": 102,
   "metadata": {},
   "outputs": [
    {
     "name": "stdout",
     "output_type": "stream",
     "text": [
      "{'0000': 10, '0001': 5}\n"
     ]
    }
   ],
   "source": [
    "with open('count.pkl', 'rb') as pkl:\n",
    "    count_from_pkl = pickle.load(pkl)\n",
    "    print(count_from_pkl)"
   ]
  },
  {
   "cell_type": "code",
   "execution_count": null,
   "metadata": {},
   "outputs": [],
   "source": []
  }
 ],
 "metadata": {
  "kernelspec": {
   "display_name": "Python 3",
   "language": "python",
   "name": "python3"
  },
  "language_info": {
   "codemirror_mode": {
    "name": "ipython",
    "version": 3
   },
   "file_extension": ".py",
   "mimetype": "text/x-python",
   "name": "python",
   "nbconvert_exporter": "python",
   "pygments_lexer": "ipython3",
   "version": "3.7.3"
  }
 },
 "nbformat": 4,
 "nbformat_minor": 2
}
