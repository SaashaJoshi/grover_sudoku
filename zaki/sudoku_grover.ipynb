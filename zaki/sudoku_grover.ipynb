{
 "cells": [
  {
   "cell_type": "code",
   "execution_count": 1,
   "metadata": {},
   "outputs": [],
   "source": [
    "%matplotlib inline\n",
    "# Importing standard Qiskit libraries and configuring account\n",
    "from qiskit import QuantumCircuit, execute, Aer, IBMQ, ClassicalRegister, QuantumRegister\n",
    "from qiskit.compiler import transpile, assemble\n",
    "import numpy as np\n",
    "from qiskit.tools.jupyter import *\n",
    "from qiskit.visualization import *\n",
    "# Loading your IBM Q account(s)"
   ]
  },
  {
   "cell_type": "code",
   "execution_count": 2,
   "metadata": {},
   "outputs": [],
   "source": [
    "def get_block_index(x, y):\n",
    "    if x<2 and y<2:\n",
    "        return 0\n",
    "    if x<2:\n",
    "        return 1\n",
    "    if y<2:\n",
    "        return 2\n",
    "    return 3\n",
    "\n",
    "def get_cands(mat):\n",
    "    cands = []\n",
    "    for i in range(len(mat)):\n",
    "        for j in range(len(mat[0])):\n",
    "            if mat[i][j] != 0:\n",
    "                continue\n",
    "            # (i, j) に k を置けるか\n",
    "            tmp = []\n",
    "            for k in range(4):\n",
    "                f = True\n",
    "                for row in range(4):\n",
    "                    if mat[row][j] == k + 1:\n",
    "                        f = False\n",
    "                for col in range(4):\n",
    "                    if mat[i][col] == k + 1:\n",
    "                        f = False\n",
    "                for x in range(4):\n",
    "                    for y in range(4):\n",
    "                        if get_block_index(i, j) != get_block_index(x, y):\n",
    "                            continue\n",
    "                        if mat[x][y] == k + 1:\n",
    "                            f = False\n",
    "                if f:\n",
    "                    tmp.append(k+1)\n",
    "            cands.append(tmp)\n",
    "    return cands"
   ]
  },
  {
   "cell_type": "code",
   "execution_count": 3,
   "metadata": {},
   "outputs": [],
   "source": [
    "def single_cand_operation(qc, q0, q1, cands):\n",
    "    # print(q0, q1)\n",
    "    if cands[0] == 1:\n",
    "        pass\n",
    "    elif cands[0] == 2:\n",
    "        qc.x(q1)\n",
    "    elif cands[0] == 3:\n",
    "        qc.x(q0)\n",
    "    else:\n",
    "        qc.x(q0)\n",
    "        qc.x(q1)\n",
    "\n",
    "def two_cand_operation(qc, q0, q1, cands):\n",
    "    # print(q0, q1, cands[0], cands[1])\n",
    "    product = cands[0]*cands[1]\n",
    "    #1 + 2\n",
    "    if product == 2:\n",
    "        qc.h(q1)\n",
    "    #1 + 3\n",
    "    elif product == 3:\n",
    "        qc.h(q0)\n",
    "    #1 + 4\n",
    "    elif product == 4:\n",
    "        qc.h(q0)\n",
    "        qc.cx(q0, q1)\n",
    "    #2 + 3\n",
    "    elif product == 6:\n",
    "        qc.x(q1)\n",
    "        qc.h(q0)\n",
    "        qc.cx(q0, q1)\n",
    "    #2 + 4\n",
    "    elif product == 8:\n",
    "        qc.x(q1)\n",
    "        qc.h(q0)\n",
    "    #3 + 4\n",
    "    else:\n",
    "        qc.h(q1)\n",
    "        qc.x(q0)"
   ]
  },
  {
   "cell_type": "code",
   "execution_count": 4,
   "metadata": {},
   "outputs": [],
   "source": [
    "def single_cand_operation_inverse(qc, q0, q1, cands):\n",
    "    print(\"Todo: single cand operation inverse\")\n",
    "    \n",
    "def two_cand_operation_inverse(qc, q0, q1, cands):\n",
    "    print(\"Todo: two cand operation inverse\")"
   ]
  },
  {
   "cell_type": "code",
   "execution_count": 5,
   "metadata": {},
   "outputs": [],
   "source": [
    "def initialize_blanks(qc, qr, mat):\n",
    "    cands = get_cands(mat)\n",
    "    # print(cands)\n",
    "\n",
    "    for i in range(len(cands)):\n",
    "        if len(cands[i]) == 1:\n",
    "            single_cand_operation(qc, qr[2*i], qr[2*i+1], cands[i])\n",
    "        else:\n",
    "            two_cand_operation(qc, qr[2*i], qr[2*i+1], cands[i])\n",
    "\n",
    "def initialize_blanks_inverse(qc, qr, mat):\n",
    "    print(\"Todo: initialize blanks inverse\")\n",
    "    cands = get_cands(mat)\n",
    "    \n",
    "    for i in range(len(cands)-1, -1, -1):\n",
    "        if len(cands[i]) == 1:\n",
    "            single_cand_operation_inverse(qc, qr[2*i], qr[2*i+1], cands[i])\n",
    "        else:\n",
    "            two_cand_operation_inverse(qc, qr[2*i], qr[2*i+1], cands[i])"
   ]
  },
  {
   "cell_type": "code",
   "execution_count": 6,
   "metadata": {},
   "outputs": [],
   "source": [
    "# if v1 != v2 (number) then target = 1 else target = 0\n",
    "def compare_vertex(qc, qr, v1, v2, target):\n",
    "    qc.x(qr[2*v2])\n",
    "    qc.x(qr[2*v2+1])\n",
    "    qc.ccx(qr[2*v1], qr[2*v1+1], target)\n",
    "    qc.ccx(qr[2*v1+1], qr[2*v2], target)\n",
    "    qc.ccx(qr[2*v2], qr[2*v2+1], target)\n",
    "    qc.ccx(qr[2*v1], qr[2*v2+1], target)\n",
    "    qc.x(qr[2*v2+1])\n",
    "    qc.x(qr[2*v2])\n",
    "    #\n",
    "    qc.x(qr[target])\n",
    "\n",
    "def compare_vertex_inv(qc, qr, v1, v2, target):\n",
    "    qc.x(qr[target])\n",
    "    #\n",
    "    qc.x(qr[2*v2])\n",
    "    qc.x(qr[2*v2+1])\n",
    "    qc.ccx(qr[2*v1], qr[2*v2+1], target)\n",
    "    qc.ccx(qr[2*v2], qr[2*v2+1], target)\n",
    "    qc.ccx(qr[2*v1+1], qr[2*v2], target)\n",
    "    qc.ccx(qr[2*v1], qr[2*v1+1], target)\n",
    "    qc.x(qr[2*v2+1])\n",
    "    qc.x(qr[2*v2])\n",
    "\n",
    "# とりあえず辺埋め込みオラクル\n",
    "def simple_oracle(qc, qr):\n",
    "    # vs = [0, 1, 2, 3, 4, 5, 6, 7]\n",
    "    lst = [[0, 1], [2, 3], [4, 5], [6, 7], [2, 6], [0, 4], [1, 5], [3, 7], [0, 2], [1, 3], [4, 6], [5, 7]]\n",
    "    target = 16\n",
    "    for elm in lst:\n",
    "        assert(len(elm)==2)\n",
    "        compare_vertex(qc, qr, elm[0], elm[1], target)\n",
    "        target+=1\n",
    "    assert(target<=29)\n",
    "    dst = 29\n",
    "    qc.mct(qr[16:target], qr[dst], [], mode='noancilla')\n",
    "    for elm in (reversed(lst)):\n",
    "        target-=1\n",
    "        compare_vertex_inv(qc, qr, elm[0], elm[1], target)\n",
    "    # print(target)"
   ]
  },
  {
   "cell_type": "code",
   "execution_count": 7,
   "metadata": {},
   "outputs": [],
   "source": [
    "def diffusion(circuit, qr, mat):\n",
    "    \"\"\"\n",
    "    diffusion (inversion about the mean) circuit.\n",
    "    note that this implementation gives H^{\\otimes n} (Id - |0..0><0...0|) H^{\\otimes n}\n",
    "    :param circuit:\n",
    "    :param qr: QuantumRegister on nodes\n",
    "    :return:\n",
    "    \"\"\"\n",
    "\n",
    "    # circuit.h(qr)\n",
    "    initialize_blanks_inverse(circuit, qr, mat)  # 初期状態準備のユニタリ操作のinverse\n",
    "    circuit.x(qr)\n",
    "\n",
    "    # apply multi-control CZ\n",
    "    circuit.h(qr[-1])\n",
    "    # circuit.mct(qr[:-1], qr[-1], anc, mode='basic')\n",
    "    circuit.mct(qr[:-1], qr[-1], [], mode='noancilla')  # ancilla使わないver\n",
    "    circuit.h(qr[-1])\n",
    "\n",
    "    circuit.x(qr)\n",
    "    # circuit.h(qr)\n",
    "    initialize_blanks(circuit, qr, mat)"
   ]
  },
  {
   "cell_type": "code",
   "execution_count": 8,
   "metadata": {},
   "outputs": [
    {
     "name": "stdout",
     "output_type": "stream",
     "text": [
      "[[4 0 2 0]\n",
      " [0 1 0 4]\n",
      " [1 0 4 0]\n",
      " [0 4 0 2]]\n"
     ]
    }
   ],
   "source": [
    "qr = QuantumRegister(32)\n",
    "cr = ClassicalRegister(32)\n",
    "qc = QuantumCircuit(qr, cr)\n",
    "mat = np.array([4, 0, 2, 0, 0, 1, 0, 4, 1, 0, 4, 0, 0, 4, 0, 2]).reshape(4, 4)\n",
    "print(mat)\n",
    "\n",
    "def grover():\n",
    "    initialize_blanks(qc, qr, mat)\n",
    "    simple_oracle(qc, qr)\n",
    "    print(\"simple oracle done\")\n",
    "    diffusion(qc, qr[:16], mat)\n",
    "    print(\"diffusion done\")\n",
    "    qc.measure(qr[0:16], cr[0:16])\n",
    "    print(\"measure done\")\n",
    "    #print(\"drawing start\")\n",
    "    #qc.draw()"
   ]
  },
  {
   "cell_type": "code",
   "execution_count": 9,
   "metadata": {},
   "outputs": [
    {
     "name": "stdout",
     "output_type": "stream",
     "text": [
      "simple oracle done\n",
      "Todo: initialize blanks inverse\n",
      "Todo: two cand operation inverse\n",
      "Todo: single cand operation inverse\n",
      "Todo: single cand operation inverse\n",
      "Todo: two cand operation inverse\n",
      "Todo: single cand operation inverse\n",
      "Todo: two cand operation inverse\n",
      "Todo: two cand operation inverse\n",
      "Todo: single cand operation inverse\n",
      "diffusion done\n",
      "measure done\n"
     ]
    }
   ],
   "source": [
    "grover()"
   ]
  },
  {
   "cell_type": "code",
   "execution_count": null,
   "metadata": {},
   "outputs": [
    {
     "name": "stdout",
     "output_type": "stream",
     "text": [
      "shots: 100\n",
      "execute start\n"
     ]
    }
   ],
   "source": [
    "# shots = 8000\n",
    "shots = 100\n",
    "print(\"shots:\", shots)\n",
    "\n",
    "## local simulator\n",
    "#backend = Aer.get_backend('qasm_simulator')\n",
    "## cloud simulator\n",
    "provider = IBMQ.load_account()\n",
    "backend = provider.get_backend('ibmq_qasm_simulator')\n",
    "\n",
    "print(\"execute start\")\n",
    "job = execute(qc, backend=backend, shots=shots, seed_simulator=12345, backend_options={\"fusion_enable\":True})\n",
    "result = job.result()\n",
    "count = result.get_counts()\n",
    "print(count)"
   ]
  },
  {
   "cell_type": "code",
   "execution_count": null,
   "metadata": {},
   "outputs": [],
   "source": []
  }
 ],
 "metadata": {
  "kernelspec": {
   "display_name": "Python 3",
   "language": "python",
   "name": "python3"
  },
  "language_info": {
   "codemirror_mode": {
    "name": "ipython",
    "version": 3
   },
   "file_extension": ".py",
   "mimetype": "text/x-python",
   "name": "python",
   "nbconvert_exporter": "python",
   "pygments_lexer": "ipython3",
   "version": "3.7.3"
  }
 },
 "nbformat": 4,
 "nbformat_minor": 2
}
