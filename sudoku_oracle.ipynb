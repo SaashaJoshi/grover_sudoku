{
 "cells": [
  {
   "cell_type": "code",
   "execution_count": 19,
   "metadata": {},
   "outputs": [],
   "source": [
    "%matplotlib inline\n",
    "# Importing standard Qiskit libraries and configuring account\n",
    "from qiskit import QuantumCircuit, execute, Aer, IBMQ\n",
    "from qiskit.compiler import transpile, assemble\n",
    "from qiskit.tools.jupyter import *\n",
    "from qiskit.visualization import *\n",
    "# Loading your IBM Q account(s)\n",
    "provider = IBMQ.load_account()"
   ]
  },
  {
   "cell_type": "code",
   "execution_count": 20,
   "metadata": {},
   "outputs": [],
   "source": [
    "# if v1 == v2 (number), target = 0 else target = 1 \n",
    "def compare_vertex(qc, qr, v1, v2, target):\n",
    "    qc.x(qr[2*v2])\n",
    "    qc.x(qr[2*v2+1])\n",
    "    qc.ccx(qr[2*v1], qr[2*v1+1], target)\n",
    "    qc.ccx(qr[2*v1+1], qr[2*v2], target)\n",
    "    qc.ccx(qr[2*v2], qr[2*v2+1], target)\n",
    "    qc.ccx(qr[2*v1], qr[2*v2+1], target)\n",
    "    qc.x(qr[2*v2+1])\n",
    "    qc.x(qr[2*v2])\n",
    "    #\n",
    "    qc.x(qr[target])"
   ]
  },
  {
   "cell_type": "code",
   "execution_count": 21,
   "metadata": {},
   "outputs": [],
   "source": [
    "def compare_vertex_inv(qc, qr, v1, v2, target):\n",
    "    qc.x(qr[target])\n",
    "    #\n",
    "    qc.x(qr[2*v2])\n",
    "    qc.x(qr[2*v2+1])\n",
    "    qc.ccx(qr[2*v1], qr[2*v2+1], target)\n",
    "    qc.ccx(qr[2*v2], qr[2*v2+1], target)\n",
    "    qc.ccx(qr[2*v1+1], qr[2*v2], target)\n",
    "    qc.ccx(qr[2*v1], qr[2*v1+1], target)\n",
    "    qc.x(qr[2*v2+1])\n",
    "    qc.x(qr[2*v2])"
   ]
  },
  {
   "cell_type": "code",
   "execution_count": 5,
   "metadata": {},
   "outputs": [],
   "source": [
    "# とりあえず動くはず\n",
    "def simple_oracle(qc, qr):\n",
    "    # vs = [0, 1, 2, 3, 4, 5, 6, 7]\n",
    "    lst = [[0, 1], [2, 3], [4, 5], [6, 7], [2, 6], [0, 4], [1, 5], [3, 7], [0, 2], [1, 3], [4, 6], [5, 7]]\n",
    "    target = 16\n",
    "    for elm in lst:\n",
    "        assert(len(elm)==2)\n",
    "        compare_vertex(qc, qr, elm[0], elm[1], target)\n",
    "        target+=1\n",
    "    assert(target<=29)\n",
    "    dst = 29\n",
    "    qc.mct(qr[16:target], qr[dst], [], mode='noancilla')\n",
    "    for elm in (reversed(lst)):\n",
    "        target-=1\n",
    "        compare_vertex_inv(qc, qr, elm[0], elm[1], target)"
   ]
  },
  {
   "cell_type": "code",
   "execution_count": null,
   "metadata": {},
   "outputs": [],
   "source": [
    "# ここから先書きかけ"
   ]
  },
  {
   "cell_type": "code",
   "execution_count": 1,
   "metadata": {},
   "outputs": [],
   "source": [
    "# vs の全点対について compare して target に AND 格納\n",
    "def compare_vertexes(qc, qr, vs, target):\n",
    "    sz = len(vs)\n",
    "    index = 16\n",
    "    for i in range(sz):\n",
    "        for j in range(i+1,sz,1):\n",
    "            compare_vertex(qc, qr, vs[i], vs[j], index)\n",
    "            index+=1\n",
    "    assert(index<=target)\n",
    "    qc.mct(qr[16:index], qr[target], [], mode='noancilla')\n",
    "    for i in range(sz-1, -1, -1):\n",
    "        for j in range(sz-1, i, -1):\n",
    "            index-=1\n",
    "            compare_vertex_inv(qc, qr, vs[i], vs[j], index)"
   ]
  },
  {
   "cell_type": "code",
   "execution_count": 2,
   "metadata": {},
   "outputs": [],
   "source": [
    "def compare_vertexes_inv(qc, qr, vs, target):\n",
    "    compare_vertexes(qc, qr, vs, target)"
   ]
  },
  {
   "cell_type": "code",
   "execution_count": 24,
   "metadata": {},
   "outputs": [],
   "source": [
    "def oracle_list(qc, qr, lst, target):\n",
    "    index=22\n",
    "    for elm in lst:\n",
    "        compare_vertexes(qc, qr, elm, index)\n",
    "        index+=1\n",
    "    qc.mct(qr[22:index], qr[target], [], mode='noancilla')\n",
    "    for elm in (reversed(lst)):\n",
    "        index-=1\n",
    "        compare_vertexes(qc, qr, elm, index)"
   ]
  },
  {
   "cell_type": "code",
   "execution_count": 25,
   "metadata": {},
   "outputs": [],
   "source": [
    "def oracle_list_inv(qc, qr, list, target):\n",
    "    # TODO\n",
    "    print(\"TODO\")    "
   ]
  },
  {
   "cell_type": "code",
   "execution_count": 26,
   "metadata": {},
   "outputs": [],
   "source": [
    "def oracle(qc, qr):\n",
    "    index = 22\n",
    "    oracle_list(qc, qr, [[0,1], [2,3], [4,5], [6,7]], 26)\n",
    "    oracle_list(qc, qr, [[0,4], [1,5], [2,6], [3,7]], 27)\n",
    "    oracle_list(qc, qr, [[0,2], [1,3], [4,6], [5,7]], 28)\n",
    "    qc.mct(qr[26:29], qr[29], [], mode='noancilla')\n",
    "    oracle_list_inv(qc, qr, [[0,2], [1,3], [4,6], [5,7]], 28)\n",
    "    oracle_list_inv(qc, qr, [[0,4], [1,5], [2,6], [3,7]], 27)\n",
    "    oracle_list_inv(qc, qr, [[0,1], [2,3], [4,5], [6,7]], 26)"
   ]
  },
  {
   "cell_type": "code",
   "execution_count": null,
   "metadata": {},
   "outputs": [],
   "source": []
  }
 ],
 "metadata": {
  "kernelspec": {
   "display_name": "Python 3",
   "language": "python",
   "name": "python3"
  },
  "language_info": {
   "codemirror_mode": {
    "name": "ipython",
    "version": 3
   },
   "file_extension": ".py",
   "mimetype": "text/x-python",
   "name": "python",
   "nbconvert_exporter": "python",
   "pygments_lexer": "ipython3",
   "version": "3.7.3"
  }
 },
 "nbformat": 4,
 "nbformat_minor": 2
}
