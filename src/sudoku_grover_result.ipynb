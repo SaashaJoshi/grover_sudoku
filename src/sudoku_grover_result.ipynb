{
 "cells": [
  {
   "cell_type": "code",
   "execution_count": 2,
   "metadata": {},
   "outputs": [],
   "source": [
    "%matplotlib inline\n",
    "# Importing standard Qiskit libraries and configuring account\n",
    "from qiskit import QuantumCircuit, execute, Aer, IBMQ, ClassicalRegister, QuantumRegister\n",
    "from qiskit.compiler import transpile, assemble\n",
    "import numpy as np\n",
    "from qiskit.tools.jupyter import *\n",
    "from qiskit.visualization import *\n",
    "# Loading your IBM Q account(s)"
   ]
  },
  {
   "cell_type": "code",
   "execution_count": 4,
   "metadata": {},
   "outputs": [
    {
     "name": "stderr",
     "output_type": "stream",
     "text": [
      "/opt/conda/lib/python3.7/site-packages/qiskit/providers/ibmq/ibmqfactory.py:181: UserWarning: Credentials are already in use. The existing account in the session will be replaced.\n",
      "  warnings.warn('Credentials are already in use. The existing '\n"
     ]
    }
   ],
   "source": [
    "provider = IBMQ.load_account()\n",
    "backend = provider.get_backend('ibmq_qasm_simulator')\n",
    "\n",
    "job_id = \"5dd3f938bbd54600187e3578\"\n",
    "job = backend.retrieve_job(job_id)\n",
    "\n",
    "result = job.result()\n",
    "count = result.get_counts()"
   ]
  },
  {
   "cell_type": "code",
   "execution_count": 5,
   "metadata": {},
   "outputs": [
    {
     "data": {
      "text/plain": [
       "[['20121220', 524],\n",
       " ['20122222', 34],\n",
       " ['20221220', 31],\n",
       " ['20221222', 45],\n",
       " ['20222222', 34],\n",
       " ['22121220', 43],\n",
       " ['22121222', 28],\n",
       " ['22122222', 33],\n",
       " ['22221220', 40],\n",
       " ['22221222', 29],\n",
       " ['22222220', 29],\n",
       " ['22222222', 35]]"
      ]
     },
     "execution_count": 5,
     "metadata": {},
     "output_type": "execute_result"
    }
   ],
   "source": [
    "count_sorted = sorted(count.items(), key=lambda x:x[1], reverse=True)\n",
    "\n",
    "# collect answers with Top 7 probability\n",
    "ans_list = count_sorted[:12]\n",
    "\n",
    "# reverse ans_list\n",
    "ans_reversed = []\n",
    "for i in ans_list:\n",
    "    ans_temp=[i[0][::-1],i[1]]\n",
    "    ans_reversed.append(ans_temp)\n",
    "\n",
    "# convert each 2 bits into corresponding color. Add node0(0),node3(1),node8(2) and node11(3)\n",
    "ans_shaped = []\n",
    "for j in ans_reversed:\n",
    "    ans_temp=j[0]\n",
    "    node0 = int(ans_temp[0] + ans_temp[1], 2)\n",
    "    node1 = int(ans_temp[2] + ans_temp[3], 2)\n",
    "    node2 = int(ans_temp[4] + ans_temp[5], 2)\n",
    "    node3 = int(ans_temp[6] + ans_temp[7], 2)\n",
    "    node4 = int(ans_temp[8] + ans_temp[9], 2)\n",
    "    node5 = int(ans_temp[10] + ans_temp[11], 2)\n",
    "    node6 = int(ans_temp[12] + ans_temp[13], 2)\n",
    "    node7 = int(ans_temp[14] + ans_temp[15], 2)\n",
    "    nodes_color = str(node0) + str(node1) + str(node2) + str(node3) + str(node4) + str(node5) + str(node6) + str(node7) \n",
    "    ans_shaped.append([nodes_color,j[1]])\n",
    "sorted(ans_shaped)"
   ]
  },
  {
   "cell_type": "code",
   "execution_count": 6,
   "metadata": {},
   "outputs": [
    {
     "name": "stdout",
     "output_type": "stream",
     "text": [
      "{'33332331': 40, '33233333': 33, '33233331': 22, '31333333': 34, '33333333': 35, '31233331': 26, '33232331': 43, '31233333': 34, '33232333': 28, '31232333': 21, '31332331': 31, '31232331': 524, '31332333': 45, '31333331': 26, '33333331': 29, '33332333': 29}\n"
     ]
    },
    {
     "data": {
      "image/png": "[encoded data removed]",
      "text/plain": [
       "<Figure size 504x360 with 1 Axes>"
      ]
     },
     "execution_count": 6,
     "metadata": {},
     "output_type": "execute_result"
    }
   ],
   "source": [
    "# 10進数(1~4)に変換\n",
    "def convert_to_decimal(str_bin):\n",
    "    str_bin = ''.join(list(reversed(str_bin)))  # cbitに格納されるときに順番逆になっていることに注意\n",
    "    list_dec = [str(int(str_bin[2*i:2*i+2], 2)+1) for i in range(len(str_bin)//2)]\n",
    "    str_dec = ''.join(list_dec)\n",
    "    return str_dec\n",
    "# histogram plot (decimal representation)\n",
    "count_decimal = {}\n",
    "for key, value in count.items():\n",
    "    count_decimal[convert_to_decimal(key)] = value\n",
    "print(count_decimal)\n",
    "plot_histogram(count_decimal)"
   ]
  },
  {
   "cell_type": "code",
   "execution_count": null,
   "metadata": {},
   "outputs": [],
   "source": []
  }
 ],
 "metadata": {
  "kernelspec": {
   "display_name": "Python 3",
   "language": "python",
   "name": "python3"
  },
  "language_info": {
   "codemirror_mode": {
    "name": "ipython",
    "version": 3
   },
   "file_extension": ".py",
   "mimetype": "text/x-python",
   "name": "python",
   "nbconvert_exporter": "python",
   "pygments_lexer": "ipython3",
   "version": "3.7.3"
  }
 },
 "nbformat": 4,
 "nbformat_minor": 2
}
