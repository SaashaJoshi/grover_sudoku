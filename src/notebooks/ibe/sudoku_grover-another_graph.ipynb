{
 "cells": [
  {
   "cell_type": "markdown",
   "metadata": {},
   "source": [
    "# 全体実装"
   ]
  },
  {
   "cell_type": "markdown",
   "metadata": {},
   "source": [
    "## 入力状態作成"
   ]
  },
  {
   "cell_type": "code",
   "execution_count": 2,
   "metadata": {},
   "outputs": [],
   "source": [
    "import matplotlib.pyplot as plt\n",
    "import numpy as np\n",
    "import time \n",
    "\n",
    "from qiskit import QuantumRegister, ClassicalRegister, QuantumCircuit\n",
    "from qiskit import IBMQ, Aer, execute\n",
    "from qiskit.tools.visualization import plot_histogram\n",
    "import json\n",
    "from qiskit.transpiler import PassManager\n",
    "from qiskit.transpiler.passes import Unroller\n",
    "import math\n",
    "import matplotlib.ticker as tick"
   ]
  },
  {
   "cell_type": "code",
   "execution_count": 3,
   "metadata": {},
   "outputs": [],
   "source": [
    "import sys\n",
    "sys.path.append('../../src')"
   ]
  },
  {
   "cell_type": "raw",
   "metadata": {},
   "source": [
    "from check import draw_matrix  # import matplotlib.pyplot as pltを追加する必要"
   ]
  },
  {
   "cell_type": "code",
   "execution_count": null,
   "metadata": {},
   "outputs": [],
   "source": [
    "# 初期配置(0は空欄に対応)\n",
    "mat = \\\n",
    "    np.array([[1, 3, 0, 0],\n",
    "              [0, 0, 3, 1],\n",
    "              [0, 4, 1, 0],\n",
    "              [3, 0, 0, 4]])\n",
    "\n",
    "# 正答\n",
    "correct_mat = \\\n",
    "    np.array([[1, 3, 4, 2],\n",
    "              [4, 2, 3, 1],\n",
    "              [2, 4, 1, 3],\n",
    "              [3, 1, 2, 4]])"
   ]
  },
  {
   "cell_type": "code",
   "execution_count": 5,
   "metadata": {},
   "outputs": [
    {
     "name": "stdout",
     "output_type": "stream",
     "text": [
      "Sudoku matrix to solve\n"
     ]
    },
    {
     "data": {
      "image/png": "[encoded data removed]",
      "text/plain": [
       "<Figure size 1000x1000 with 1 Axes>"
      ]
     },
     "metadata": {},
     "output_type": "display_data"
    }
   ],
   "source": [
    "#draws sudoku template\n",
    "#0 represents an empty cell\n",
    "#negative value represents an incorrect answer\n",
    "def draw_matrix(template, template_answer_filled, wrong_indices):\n",
    "    #compute size of sudoku matrix\n",
    "    rows = template.shape[0]\n",
    "    columns = template.shape[1]\n",
    "    #create vector from sudoku matrix\n",
    "    flat = template.reshape(1, rows**2)[0]\n",
    "    #based on the indices of the vector, create a list of empty cell indices\n",
    "    empty_indices = np.array([np.array([k//4,k%4]) for k in range(rows*columns) if flat[k] == 0])\n",
    "    #create empty sudoku matrix plot\n",
    "    fig, ax = plt.subplots(facecolor=\"w\", figsize = (5, 5), dpi = 200)\n",
    "    #change tick location to match the lines of sudoku matrices\n",
    "    fig.gca().xaxis.set_major_locator(tick.MultipleLocator(1))\n",
    "    fig.gca().yaxis.set_major_locator(tick.MultipleLocator(1))\n",
    "    ax.grid(which='major',color='black',linestyle='-')\n",
    "    #eliminate ticks\n",
    "    ax.tick_params(direction = \"in\", length = 0, colors = \"black\")\n",
    "    plt.xlim(0,4)\n",
    "    plt.ylim(0,4)\n",
    "    #eliminate ticks\n",
    "    plt.tick_params(labelbottom=False,\n",
    "                labelleft=False,\n",
    "                labelright=False,\n",
    "                labeltop=False)\n",
    "    #fill in the corresponding numbers\n",
    "    for index in [[0,0],[0,1],[0,2],[0,3],[1,0],[1,1],[1,2],[1,3],[2,0],[2,1],[2,2],[2,3],[3,0],[3,1],[3,2],[3,3]]:\n",
    "        if template_answer_filled[index[0]][index[1]] == 0:\n",
    "            pass\n",
    "        elif index in wrong_indices:\n",
    "            ax.text(index[1] + 0.5, 3 - index[0]+0.5, str(template_answer_filled[index[0]][index[1]]), {'color': 'red', 'fontsize': 24, 'ha': 'center', 'va': 'center'})\n",
    "        else:\n",
    "            ax.text(index[1] + 0.5, 3 - index[0]+0.5, str(template[index[0]][index[1]]), {'color': 'black', 'fontsize': 24, 'ha': 'center', 'va': 'center'})\n",
    "    plt.show()\n",
    "    \n",
    "print('Sudoku matrix to solve')\n",
    "draw_matrix(mat, mat, [])\n",
    "\n",
    "#Determines the values in the box in which the cell is contained\n",
    "def determine_box(template, row, column):\n",
    "    if row <= 1 and column <= 1:\n",
    "        box = np.array([template[i[0]][i[1]] for i in [[0,0],[0,1],[1,0],[1,1]]])\n",
    "        #if the empty cell belongs to the upper right box\n",
    "    elif row <= 1 and column > 1:\n",
    "        box = np.array([template[i[0]][i[1]] for i in [[0,2],[0,3],[1,2],[1,3]]])\n",
    "        #if the empty cell belongs to the lower left box\n",
    "    elif row > 1 and column <= 1:\n",
    "        box = np.array([template[i[0]][i[1]] for i in [[2,0],[2,1],[3,0],[3,1]]])\n",
    "        #if the empty cell belongs to the lower right box\n",
    "    elif row > 1 and column > 1:\n",
    "        box =  np.array([template[i[0]][i[1]] for i in [[2,2],[2,3],[3,2],[3,3]]])\n",
    "    return box\n",
    "\n",
    "#fill in the blanks\n",
    "def fill(template, sequence):\n",
    "    #the number of rows of the sudoku matrix\n",
    "    rows = template_answer_filled.shape[0]\n",
    "    #the number of columns of the sudoku matrix\n",
    "    columns = template_answer_filled.shape[1]\n",
    "    #sudoku matrix converted into a vector\n",
    "    flat = template.reshape(1, rows**2)[0]\n",
    "    #array containing the indices of the empty cells of the initial sudoku matrix\n",
    "    empty_rows = np.array([k//4 for k in range(rows*columns) if flat[k] == 0])\n",
    "    empty_cols = np.array([k%4 for k in range(rows*columns) if flat[k] == 0])\n",
    "    #fill in\n",
    "    for i, j, k in zip(empty_rows,empty_cols, range(len(sequence))):\n",
    "        template[i][j] = sequence[k]\n",
    "    return template\n",
    "\n",
    "# sequence = [3,1,2,3,2,3,3,1]\n",
    "# print(fill(mat, sequence))\n",
    "\n",
    "#checks that a given sudoku matrix has the correct sum for each row, column and box.\n",
    "#returns the template\n",
    "def check(template, template_answer_filled):\n",
    "    #the number of rows of the sudoku matrix\n",
    "    rows = template_answer_filled.shape[0]\n",
    "    #the number of columns of the sudoku matrix\n",
    "    columns = template_answer_filled.shape[1]\n",
    "    #the correct sum of each row, column or box\n",
    "    correct_sum = np.sum([k for k in range(1, rows+1)])\n",
    "    #sudoku matrix converted into a vector\n",
    "    flat = template.reshape(1, rows**2)[0]\n",
    "    #array containing the indices of the empty cells of the initial sudoku matrix\n",
    "    empty_rows = np.array([k//4 for k in range(rows*columns) if flat[k] == 0])\n",
    "    empty_cols = np.array([k%4 for k in range(rows*columns) if flat[k] == 0])\n",
    "    #list to be filled with indices of cells containing wrong answers\n",
    "    wrong_indices = []\n",
    "    #checks each element in terms of the sum of the row, column and box.\n",
    "    for i, j in zip(empty_rows, empty_cols):\n",
    "        row = np.sum(template_answer_filled[i][:])\n",
    "        column = np.sum([template_answer_filled[k][j] for k in range(rows)])\n",
    "        box = np.sum(determine_box(template_answer_filled, i, j))\n",
    "        if row == correct_sum and column == correct_sum and box == correct_sum:\n",
    "            pass\n",
    "        else:\n",
    "            wrong_indices.append([i,j])\n",
    "    return wrong_indices\n",
    "\n",
    "# wrong_indices = check(template, template_answer_filled)\n",
    "# print(wrong_indices)\n",
    "\n",
    "# draw_matrix(template, template_answer_filled, wrong_indices)"
   ]
  },
  {
   "cell_type": "markdown",
   "metadata": {},
   "source": [
    "## 初期状態作成"
   ]
  },
  {
   "cell_type": "code",
   "execution_count": 6,
   "metadata": {},
   "outputs": [
    {
     "name": "stdout",
     "output_type": "stream",
     "text": [
      "(array([[0, 2],\n",
      "       [0, 3],\n",
      "       [1, 0],\n",
      "       [1, 1],\n",
      "       [2, 0],\n",
      "       [2, 3],\n",
      "       [3, 1],\n",
      "       [3, 2]]), array([[1, 3, 0, 0, 0, 3, 1, 0, 0, 0, 3, 1],\n",
      "       [1, 3, 0, 0, 0, 1, 0, 4, 0, 0, 3, 1],\n",
      "       [0, 0, 3, 1, 1, 0, 0, 3, 1, 3, 0, 0],\n",
      "       [0, 0, 3, 1, 3, 0, 4, 0, 1, 3, 0, 0],\n",
      "       [0, 4, 1, 0, 1, 0, 0, 3, 0, 4, 3, 0],\n",
      "       [0, 4, 1, 0, 0, 1, 0, 4, 1, 0, 0, 4],\n",
      "       [3, 0, 0, 4, 3, 0, 4, 0, 0, 4, 3, 0],\n",
      "       [3, 0, 0, 4, 0, 3, 1, 0, 1, 0, 0, 4]]))\n"
     ]
    }
   ],
   "source": [
    "#Input: sudoku matrix, output: list of qubit numbers assigned to each empty cell and\n",
    "#the list of numbers in the same row, column and qubicle of each empty cell\n",
    "def nums(mat):\n",
    "    rows = mat.shape[0]\n",
    "    columns = mat.shape[1]\n",
    "    flat = mat.reshape(1, rows**2)[0]\n",
    "    empty_indices = np.array([np.array([k//4,k%4]) for k in range(rows*columns) if flat[k] == 0])\n",
    "    q_nums = np.array([[k, k+1] for k in range(0, len(empty_indices)*2, 2)])\n",
    "    num = []\n",
    "    for k,index in zip(range(len(empty_indices)),empty_indices):\n",
    "        row = mat[index[0]][:]\n",
    "        column = np.array([mat[k][index[1]] for k in range(rows)])\n",
    "        #if the empty cell belongs to the upper left box\n",
    "        if index[0] <= 1 and index[1] <= 1:\n",
    "            box = np.array([mat[i[0]][i[1]] for i in [[0,0],[0,1],[1,0],[1,1]]])\n",
    "        #if the empty cell belongs to the upper right box\n",
    "        elif index[0] <= 1 and index[1] > 1:\n",
    "            box = np.array([mat[i[0]][i[1]] for i in [[0,2],[0,3],[1,2],[1,3]]])\n",
    "        #if the empty cell belongs to the lower left box\n",
    "        elif index[0] > 1 and index[1] <= 1:\n",
    "            box = np.array([mat[i[0]][i[1]] for i in [[2,0],[2,1],[3,0],[3,1]]])\n",
    "        #if the empty cell belongs to the lower right box\n",
    "        elif index[0] > 1 and index[1] > 1:\n",
    "            box =  np.array([mat[i[0]][i[1]] for i in [[2,2],[2,3],[3,2],[3,3]]])\n",
    "        num.append(np.array([row, column, box]).reshape(1, 12)[0])\n",
    "    return empty_indices, np.array(num)\n",
    "\n",
    "print(nums(mat))"
   ]
  },
  {
   "cell_type": "code",
   "execution_count": 7,
   "metadata": {},
   "outputs": [],
   "source": [
    "#Input: sudoku matrix,\n",
    "#Output: list of elements in the same row, column and box of the empty cell in question.\n",
    "def candidates(mat, nums):\n",
    "    sudoku_size = mat.shape[0]\n",
    "    all_cands = np.arange(1, sudoku_size + 1)\n",
    "    counts = np.array([np.count_nonzero(nums == all_cands[k]) for k in range(len(all_cands))])\n",
    "    cand_indices = np.where(counts==0)[0]\n",
    "    cands = np.array([all_cands[k] for k in cand_indices])\n",
    "    return set(cands)\n",
    "\n",
    "# print(candidates(mat, [4, 0, 2, 0, 0, 4, 0, 2, 2, 0, 0, 4]))"
   ]
  },
  {
   "cell_type": "code",
   "execution_count": 8,
   "metadata": {},
   "outputs": [],
   "source": [
    "def single_cand_operation(qc, q0, q1, cands):\n",
    "    if cands == {1}:\n",
    "        pass\n",
    "    elif cands == {2}:\n",
    "        qc.x(q1)\n",
    "    elif cands == {3}:\n",
    "        qc.x(q0)\n",
    "    else:\n",
    "        qc.x(q0)\n",
    "        qc.x(q1)\n",
    "        \n",
    "def single_cand_operation_inv(qc, q0, q1, cands): \n",
    "    '''identical as noinv'''\n",
    "    if cands == {1}:\n",
    "        pass\n",
    "    elif cands == {2}:\n",
    "        qc.x(q1)\n",
    "    elif cands == {3}:\n",
    "        qc.x(q0)\n",
    "    else:\n",
    "        qc.x(q1)\n",
    "        qc.x(q0)\n",
    "\n",
    "def two_cand_operation(qc, q0, q1, cands):\n",
    "#     product = cands[0]*cands[1]\n",
    "    #1 + 2\n",
    "    if cands == {1, 2}:\n",
    "        qc.h(q1)\n",
    "    #1 + 3\n",
    "    elif cands == {1, 3}:\n",
    "        qc.h(q0)\n",
    "    #1 + 4\n",
    "    elif cands == {1, 4}:\n",
    "        qc.h(q0)\n",
    "        qc.cx(q0, q1)\n",
    "    #2 + 3\n",
    "    elif cands == {2, 3}:\n",
    "        qc.x(q1)\n",
    "        qc.h(q0)\n",
    "        qc.cx(q0, q1)\n",
    "    #2 + 4\n",
    "    elif cands == {2, 4}:\n",
    "        qc.x(q1)\n",
    "        qc.h(q0)\n",
    "    #3 + 4\n",
    "    else:\n",
    "        qc.h(q1)\n",
    "        qc.x(q0)\n",
    "    \n",
    "def two_cand_operation_inv(qc, q0, q1, cands):\n",
    "#     product = cands[0]*cands[1]\n",
    "    #1 + 2\n",
    "    if cands == {1, 2}:\n",
    "        qc.h(q1)\n",
    "    #1 + 3\n",
    "    elif cands == {1, 3}:\n",
    "        qc.h(q0)\n",
    "    #1 + 4\n",
    "    elif cands == {1, 4}:\n",
    "        qc.cx(q0, q1)\n",
    "        qc.h(q0)\n",
    "    #2 + 3\n",
    "    elif cands == {2, 3}:\n",
    "        qc.cx(q0, q1)\n",
    "        qc.h(q0)\n",
    "        qc.x(q1)\n",
    "    #2 + 4\n",
    "    elif cands == {2, 4}:\n",
    "        qc.h(q0)\n",
    "        qc.x(q1)\n",
    "    #3 + 4\n",
    "    else:\n",
    "        qc.h(q1)\n",
    "        qc.x(q0)"
   ]
  },
  {
   "cell_type": "code",
   "execution_count": 9,
   "metadata": {},
   "outputs": [],
   "source": [
    "def create_initial(qc, q, mat):\n",
    "    # q: only qubits on blanks (ancillae not included)\n",
    "#     draw_matrix(mat)\n",
    "    empty_indices, num = nums(mat)\n",
    "    cands_list = np.array([candidates(mat, num[k]) for k in range(len(num))])\n",
    "    for j,k in zip(range(0, len(empty_indices)*2, 2),range(len(cands_list))):\n",
    "        cands = cands_list[k]\n",
    "        if len(cands) == 1:\n",
    "            single_cand_operation(qc, q[j], q[j+1], cands)\n",
    "        else:\n",
    "            two_cand_operation(qc, q[j], q[j+1], cands)\n",
    "            \n",
    "def create_initial_inv(qc, q, mat):\n",
    "    empty_indices, num = nums(mat)\n",
    "    cands_list = np.array([candidates(mat, num[k]) for k in range(len(num))])\n",
    "    for j,k in zip(range(0, len(empty_indices)*2, 2),range(len(cands_list))):\n",
    "        cands = cands_list[k]\n",
    "        if len(cands) == 1:\n",
    "            single_cand_operation_inv(qc, q[j], q[j+1], cands)\n",
    "        else:\n",
    "            two_cand_operation_inv(qc, q[j], q[j+1], cands)"
   ]
  },
  {
   "cell_type": "code",
   "execution_count": 10,
   "metadata": {},
   "outputs": [],
   "source": [
    "# oracle\n",
    "\n",
    "# if v1 != v2 (number) then target = 1 else target = 0\n",
    "def compare_vertex(qc, qr, v1, v2, target):\n",
    "    qc.x(qr[2*v2])\n",
    "    qc.x(qr[2*v2+1])\n",
    "    qc.ccx(qr[2*v1], qr[2*v1+1], target)\n",
    "    qc.ccx(qr[2*v1+1], qr[2*v2], target)\n",
    "    qc.ccx(qr[2*v2], qr[2*v2+1], target)\n",
    "    qc.ccx(qr[2*v1], qr[2*v2+1], target)\n",
    "    qc.x(qr[2*v2+1])\n",
    "    qc.x(qr[2*v2])\n",
    "    #\n",
    "    qc.x(qr[target])\n",
    "\n",
    "def compare_vertex_inv(qc, qr, v1, v2, target):\n",
    "    qc.x(qr[target])\n",
    "    #\n",
    "    qc.x(qr[2*v2])\n",
    "    qc.x(qr[2*v2+1])\n",
    "    qc.ccx(qr[2*v1], qr[2*v2+1], target)\n",
    "    qc.ccx(qr[2*v2], qr[2*v2+1], target)\n",
    "    qc.ccx(qr[2*v1+1], qr[2*v2], target)\n",
    "    qc.ccx(qr[2*v1], qr[2*v1+1], target)\n",
    "    qc.x(qr[2*v2+1])\n",
    "    qc.x(qr[2*v2])\n",
    "\n",
    "# とりあえず辺埋め込みオラクル\n",
    "def simple_oracle(qc, qr):\n",
    "    # vs = [0, 1, 2, 3, 4, 5, 6, 7]\n",
    "    lst1 = [[0, 1], [2, 3], [4, 5], [6, 7], [2, 6], [0, 4]]\n",
    "    lst2 = [[1, 5], [3, 7], [0, 2], [1, 3], [4, 6], [5, 7]]\n",
    "    target = 16\n",
    "    tmp1 = 30\n",
    "    tmp2 = 31\n",
    "    for elm in lst1:\n",
    "        assert(len(elm)==2)\n",
    "        compare_vertex(qc, qr, elm[0], elm[1], target)\n",
    "        target+=1\n",
    "    qc.mct(qr[16:target], qr[tmp1], qr[22:29], mode='basic')\n",
    "    for elm in (reversed(lst1)):\n",
    "        target-=1\n",
    "        compare_vertex_inv(qc, qr, elm[0], elm[1], target)\n",
    "        \n",
    "    for elm in lst2:\n",
    "        assert(len(elm)==2)\n",
    "        compare_vertex(qc, qr, elm[0], elm[1], target)\n",
    "        target+=1\n",
    "    qc.mct(qr[16:target], qr[tmp2], qr[22:29], mode='basic')\n",
    "    for elm in (reversed(lst2)):\n",
    "        target-=1\n",
    "        compare_vertex_inv(qc, qr, elm[0], elm[1], target)\n",
    "    \n",
    "    ##\n",
    "    dst = 29\n",
    "    qc.ccx(qr[tmp1], qr[tmp2], qr[dst])\n",
    "    ##\n",
    "    \n",
    "    for elm in lst2:\n",
    "        assert(len(elm)==2)\n",
    "        compare_vertex(qc, qr, elm[0], elm[1], target)\n",
    "        target+=1\n",
    "    qc.mct(qr[16:target], qr[tmp2], qr[22:29], mode='basic')\n",
    "    for elm in (reversed(lst2)):\n",
    "        target-=1\n",
    "        compare_vertex_inv(qc, qr, elm[0], elm[1], target)\n",
    "        \n",
    "    for elm in lst1:\n",
    "        assert(len(elm)==2)\n",
    "        compare_vertex(qc, qr, elm[0], elm[1], target)\n",
    "        target+=1\n",
    "    qc.mct(qr[16:target], qr[tmp1], qr[22:29], mode='basic')\n",
    "    for elm in (reversed(lst1)):\n",
    "        target-=1\n",
    "        compare_vertex_inv(qc, qr, elm[0], elm[1], target)\n",
    "\n"
   ]
  },
  {
   "cell_type": "code",
   "execution_count": 11,
   "metadata": {},
   "outputs": [],
   "source": [
    "# diffusion\n",
    "    \n",
    "def diffusion(circuit, qr, mat):\n",
    "    \"\"\"\n",
    "    diffusion (inversion about the mean) circuit.\n",
    "    note that this implementation gives H^{\\otimes n} (Id - |0..0><0...0|) H^{\\otimes n}\n",
    "    :param circuit:\n",
    "    :param qr: QuantumRegister on nodes\n",
    "    :return:\n",
    "    \"\"\"\n",
    "\n",
    "    # circuit.h(qr)\n",
    "    create_initial_inv(circuit, qr[:16], mat)  # 初期状態準備のユニタリ操作のinverse\n",
    "    circuit.x(qr[:16])\n",
    "\n",
    "    # apply multi-control CZ\n",
    "    circuit.h(qr[15])\n",
    "    # circuit.mct(qr[:-1], qr[-1], anc, mode='basic')\n",
    "    circuit.mct(qr[:15], qr[15], qr[16:32], mode='basic')  # ancilla使うver\n",
    "    circuit.h(qr[15])\n",
    "\n",
    "    circuit.x(qr[:16])\n",
    "    # circuit.h(qr)\n",
    "    create_initial(circuit, qr[:16], mat)"
   ]
  },
  {
   "cell_type": "code",
   "execution_count": 12,
   "metadata": {},
   "outputs": [],
   "source": [
    "# number of iteration\n",
    "n_it = 1\n",
    "\n",
    "def grover(circuit, q, c, mat):\n",
    "\n",
    "    # set initial state\n",
    "    create_initial(circuit, q[:16], mat)\n",
    "    \n",
    "    for _ in range(n_it):\n",
    "        simple_oracle(circuit, q)\n",
    "        diffusion(circuit, q, mat)\n",
    "    \n",
    "    circuit.barrier()\n",
    "    \n",
    "    # measurement\n",
    "    circuit.measure(q[:n_cbits],c)"
   ]
  },
  {
   "cell_type": "code",
   "execution_count": 13,
   "metadata": {},
   "outputs": [],
   "source": [
    "# circuit construction \n",
    "n_qubits = 32\n",
    "n_blanks = 8\n",
    "n_cbits = 2 * n_blanks\n",
    "\n",
    "q = QuantumRegister(n_qubits) \n",
    "c = ClassicalRegister(n_cbits)\n",
    "circuit = QuantumCircuit(q, c)"
   ]
  },
  {
   "cell_type": "code",
   "execution_count": 14,
   "metadata": {},
   "outputs": [
    {
     "name": "stdout",
     "output_type": "stream",
     "text": [
      "circuit has been constructed!\n"
     ]
    }
   ],
   "source": [
    "grover(circuit, q, c, mat)\n",
    "print('circuit has been constructed!')"
   ]
  },
  {
   "cell_type": "markdown",
   "metadata": {},
   "source": [
    "### Use Transpiler"
   ]
  },
  {
   "cell_type": "markdown",
   "metadata": {},
   "source": [
    "回路の最適化により、計算が逆に遅くなったので断念"
   ]
  },
  {
   "cell_type": "code",
   "execution_count": 15,
   "metadata": {},
   "outputs": [],
   "source": [
    "# from qiskit.compiler import transpile\n",
    "# from qiskit.transpiler import PassManager"
   ]
  },
  {
   "cell_type": "code",
   "execution_count": 16,
   "metadata": {},
   "outputs": [],
   "source": [
    "# https://qiskit.org/documentation/locale/ja/api/qiskit.compiler.transpile.html\n",
    "# optimized_circuit = transpile(circuit, basis_gates=['u1', 'u3', 'u2', 'cx'], optimization_level=2) "
   ]
  },
  {
   "cell_type": "code",
   "execution_count": 17,
   "metadata": {},
   "outputs": [],
   "source": [
    "# circuit.draw(output='mpl')\n",
    "# circuit.draw()\n",
    "# optimized_circuit.draw()"
   ]
  },
  {
   "cell_type": "markdown",
   "metadata": {},
   "source": [
    "## 実行"
   ]
  },
  {
   "cell_type": "code",
   "execution_count": null,
   "metadata": {},
   "outputs": [
    {
     "name": "stdout",
     "output_type": "stream",
     "text": [
      "shots: 1\n"
     ]
    }
   ],
   "source": [
    "### Execution\n",
    "time0 = time.time()\n",
    "# shots = 8000\n",
    "shots = 1\n",
    "print(\"shots:\", shots)\n",
    "\n",
    "## local simulator\n",
    "# backend = Aer.get_backend('qasm_simulator')\n",
    "## cloud simulator\n",
    "provider = IBMQ.load_account()\n",
    "backend = provider.get_backend('ibmq_qasm_simulator')\n",
    "\n",
    "job = execute(circuit, backend=backend, shots=shots, seed_simulator=12345)\n",
    "# job = execute(optimized_circuit, backend=backend, shots=shots, seed_simulator=12345)  # to use transpiled circuit\n",
    "# job = execute(circuit, backend=backend, shots=shots, seed_simulator=12345, backend_options={\"fusion_enable\":True})\n",
    "\n",
    "result = job.result()\n",
    "count = result.get_counts()\n",
    "time1 = time.time()\n",
    "print(f\"Calculations took {time1-time0} sec.\")\n",
    "print(count)"
   ]
  },
  {
   "cell_type": "markdown",
   "metadata": {},
   "source": [
    "### データ処理"
   ]
  },
  {
   "cell_type": "code",
   "execution_count": null,
   "metadata": {},
   "outputs": [],
   "source": [
    "# 10進数(1~4)に変換\n",
    "def convert_to_decimal(str_bin):\n",
    "    str_bin = ''.join(list(reversed(str_bin)))  # cbitに格納されるときに順番逆になっていることに注意\n",
    "    list_dec = [str(int(str_bin[2*i:2*i+2], 2)+1) for i in range(len(str_bin)//2)]\n",
    "    str_dec = ''.join(list_dec)\n",
    "    return str_dec"
   ]
  },
  {
   "cell_type": "code",
   "execution_count": null,
   "metadata": {},
   "outputs": [],
   "source": [
    "# histogram plot (decimal representation)\n",
    "count_decimal = {}\n",
    "for key, value in count.items():\n",
    "    count_decimal[convert_to_decimal(key)] = value\n",
    "plot_histogram(count_decimal)"
   ]
  },
  {
   "cell_type": "code",
   "execution_count": 101,
   "metadata": {},
   "outputs": [],
   "source": [
    "# サンプリング結果の保存\n",
    "import pickle\n",
    "with open('count_another.pkl', 'wb') as pkl:\n",
    "    pickle.dump(count_decimal , pkl)"
   ]
  },
  {
   "cell_type": "raw",
   "metadata": {},
   "source": [
    "with open('count.pkl', 'rb') as pkl:\n",
    "    count_from_pkl = pickle.load(pkl)\n",
    "    print(count_from_pkl)"
   ]
  },
  {
   "cell_type": "markdown",
   "metadata": {},
   "source": [
    "### validation\n"
   ]
  },
  {
   "cell_type": "code",
   "execution_count": null,
   "metadata": {},
   "outputs": [],
   "source": [
    "# サンプリング結果の最頻値\n",
    "most_frequent = sorted(count.items(), key=lambda x:x[1], reverse=True)[0][0]\n",
    "solution = convert_to_decimal(most_frequent)\n",
    "print(solution)"
   ]
  },
  {
   "cell_type": "code",
   "execution_count": null,
   "metadata": {},
   "outputs": [],
   "source": [
    "mat_answer_filled = mat.copy()\n",
    "\n",
    "# 回答で埋める\n",
    "k = 0\n",
    "for i in range(4):\n",
    "    for j in range(4):\n",
    "        if mat_answer_filled[i][j] == 0:\n",
    "            mat_answer_filled[i][j] = solution[k]\n",
    "            k += 1\n",
    "            \n",
    "mat_answer_filled = np.array(mat_answer_filled)"
   ]
  },
  {
   "cell_type": "code",
   "execution_count": null,
   "metadata": {},
   "outputs": [],
   "source": [
    "mat_answer_filled"
   ]
  },
  {
   "cell_type": "code",
   "execution_count": null,
   "metadata": {},
   "outputs": [],
   "source": [
    "# 10進数のリスト\n",
    "ans_10_list = mat_answer_filled.flatten().tolist()\n",
    "print(ans_10_list)"
   ]
  },
  {
   "cell_type": "code",
   "execution_count": null,
   "metadata": {},
   "outputs": [],
   "source": [
    "def row_judge(ans_10_list):\n",
    "    for i in range(0, 16, 4):\n",
    "        if len(list(set(ans_10_list[i:i+4]))) < 4:\n",
    "            return False\n",
    "    return True\n",
    "\n",
    "def colum_judge(ans_10_list):\n",
    "    for i in range(0,4):\n",
    "        get_colum = []\n",
    "        for j in range(i,16,4):\n",
    "            get_colum.append(ans_10_list[j])\n",
    "        if len(list(set(get_colum))) < 4:\n",
    "            return False\n",
    "        else:\n",
    "            pass\n",
    "    return True\n",
    "\n",
    "def box_judge(ans_10_list):\n",
    "    split_ans = []\n",
    "    for i in range(0, len(ans_10_list), 2):\n",
    "        split_ans.append([ans_10_list[i], ans_10_list[i+1]])\n",
    "    for i in range(0, 2):\n",
    "        get_box = split_ans[i] + split_ans[i+2]\n",
    "        if len(list(set(get_box))) < 4:\n",
    "            return False\n",
    "        else:\n",
    "            pass\n",
    "    for i in range(4, 6):\n",
    "        get_box = split_ans[i] + split_ans[i+2]\n",
    "        if len(list(set(get_box))) < 4:\n",
    "            return False\n",
    "        else:\n",
    "            pass\n",
    "    return True\n",
    "\n",
    "def judge_whole(ans_10_list):\n",
    "  \n",
    "    judgeA = row_judge(ans_10_list)\n",
    "    judgeB = colum_judge(ans_10_list)\n",
    "    judgeC = box_judge(ans_10_list)\n",
    "    \n",
    "    return(judgeA and judgeB and judgeC)"
   ]
  },
  {
   "cell_type": "code",
   "execution_count": null,
   "metadata": {},
   "outputs": [],
   "source": [
    "judge_whole(ans_10_list)"
   ]
  },
  {
   "cell_type": "code",
   "execution_count": null,
   "metadata": {},
   "outputs": [],
   "source": [
    "draw_matrix(mat, mat_answer_filled, [])"
   ]
  }
 ],
 "metadata": {
  "kernelspec": {
   "display_name": "Python 3",
   "language": "python",
   "name": "python3"
  },
  "language_info": {
   "codemirror_mode": {
    "name": "ipython",
    "version": 3
   },
   "file_extension": ".py",
   "mimetype": "text/x-python",
   "name": "python",
   "nbconvert_exporter": "python",
   "pygments_lexer": "ipython3",
   "version": "3.7.3"
  }
 },
 "nbformat": 4,
 "nbformat_minor": 2
}
